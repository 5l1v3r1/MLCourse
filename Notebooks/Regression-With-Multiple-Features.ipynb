{
 "cells": [
  {
   "cell_type": "markdown",
   "metadata": {},
   "source": [
    "# Regression with Multiple Features"
   ]
  },
  {
   "cell_type": "markdown",
   "metadata": {},
   "source": [
    "TO DO\n",
    "- Regression using Scikit-Learn"
   ]
  },
  {
   "cell_type": "markdown",
   "metadata": {},
   "source": [
    "**ACKNOWLEDGEMENT**\n",
    "\n",
    "**The dataset used in this notebook is from Andrew Ng's course on Machine Learning on Coursera.**"
   ]
  },
  {
   "cell_type": "code",
   "execution_count": 1,
   "metadata": {
    "collapsed": true
   },
   "outputs": [],
   "source": [
    "# Share functions used in multiple notebooks\n",
    "%run Shared-Functions.ipynb"
   ]
  },
  {
   "cell_type": "code",
   "execution_count": 2,
   "metadata": {
    "collapsed": true
   },
   "outputs": [],
   "source": [
    "# Import our usual libraries\n",
    "import numpy as np\n",
    "import pandas as pd\n",
    "import math\n",
    "import matplotlib.pyplot as plt\n",
    "%matplotlib inline"
   ]
  },
  {
   "cell_type": "markdown",
   "metadata": {},
   "source": [
    "## The Business Problem: Predicting Housing Prices\n",
    "\n",
    "What's the market value of a house? One way to determine the market price is to collect up the prices of houses based on a few characteristics such as size in square feet and number of bedrooms. Then think like a machine and \"learn\" what the price should be based on this data.\n",
    "\n",
    "The data we have is our familiar dataset of housing prices in Portland, Oregon. Let's refresh our memories of what this dataset looks like."
   ]
  },
  {
   "cell_type": "markdown",
   "metadata": {},
   "source": [
    "## Load the Data"
   ]
  },
  {
   "cell_type": "code",
   "execution_count": 3,
   "metadata": {},
   "outputs": [
    {
     "data": {
      "text/html": [
       "<div>\n",
       "<style>\n",
       "    .dataframe thead tr:only-child th {\n",
       "        text-align: right;\n",
       "    }\n",
       "\n",
       "    .dataframe thead th {\n",
       "        text-align: left;\n",
       "    }\n",
       "\n",
       "    .dataframe tbody tr th {\n",
       "        vertical-align: top;\n",
       "    }\n",
       "</style>\n",
       "<table border=\"1\" class=\"dataframe\">\n",
       "  <thead>\n",
       "    <tr style=\"text-align: right;\">\n",
       "      <th></th>\n",
       "      <th>Size</th>\n",
       "      <th>Bedrooms</th>\n",
       "      <th>Price</th>\n",
       "    </tr>\n",
       "  </thead>\n",
       "  <tbody>\n",
       "    <tr>\n",
       "      <th>0</th>\n",
       "      <td>2104</td>\n",
       "      <td>3</td>\n",
       "      <td>399900</td>\n",
       "    </tr>\n",
       "    <tr>\n",
       "      <th>1</th>\n",
       "      <td>1600</td>\n",
       "      <td>3</td>\n",
       "      <td>329900</td>\n",
       "    </tr>\n",
       "    <tr>\n",
       "      <th>2</th>\n",
       "      <td>2400</td>\n",
       "      <td>3</td>\n",
       "      <td>369000</td>\n",
       "    </tr>\n",
       "    <tr>\n",
       "      <th>3</th>\n",
       "      <td>1416</td>\n",
       "      <td>2</td>\n",
       "      <td>232000</td>\n",
       "    </tr>\n",
       "    <tr>\n",
       "      <th>4</th>\n",
       "      <td>3000</td>\n",
       "      <td>4</td>\n",
       "      <td>539900</td>\n",
       "    </tr>\n",
       "  </tbody>\n",
       "</table>\n",
       "</div>"
      ],
      "text/plain": [
       "   Size  Bedrooms   Price\n",
       "0  2104         3  399900\n",
       "1  1600         3  329900\n",
       "2  2400         3  369000\n",
       "3  1416         2  232000\n",
       "4  3000         4  539900"
      ]
     },
     "execution_count": 3,
     "metadata": {},
     "output_type": "execute_result"
    }
   ],
   "source": [
    "import os\n",
    "# OS-independent way to navigate the file system\n",
    "# Data directory is one directory up in relation to directory of this notebook\n",
    "data_dir_root = os.path.normpath(os.getcwd() + os.sep + os.pardir)\n",
    "# Where the file is\n",
    "file_url = data_dir_root + os.sep + \"Data\" + os.sep + \"portland-house-prices.txt\"\n",
    "# Load the data into a dataframe\n",
    "data2 = pd.read_csv(file_url, header=None, names=['Size', 'Bedrooms', 'Price'])\n",
    "data2.head()"
   ]
  },
  {
   "cell_type": "code",
   "execution_count": 4,
   "metadata": {},
   "outputs": [
    {
     "data": {
      "text/html": [
       "<div>\n",
       "<style>\n",
       "    .dataframe thead tr:only-child th {\n",
       "        text-align: right;\n",
       "    }\n",
       "\n",
       "    .dataframe thead th {\n",
       "        text-align: left;\n",
       "    }\n",
       "\n",
       "    .dataframe tbody tr th {\n",
       "        vertical-align: top;\n",
       "    }\n",
       "</style>\n",
       "<table border=\"1\" class=\"dataframe\">\n",
       "  <thead>\n",
       "    <tr style=\"text-align: right;\">\n",
       "      <th></th>\n",
       "      <th>Size</th>\n",
       "      <th>Bedrooms</th>\n",
       "      <th>Price</th>\n",
       "    </tr>\n",
       "  </thead>\n",
       "  <tbody>\n",
       "    <tr>\n",
       "      <th>count</th>\n",
       "      <td>47.000000</td>\n",
       "      <td>47.000000</td>\n",
       "      <td>47.000000</td>\n",
       "    </tr>\n",
       "    <tr>\n",
       "      <th>mean</th>\n",
       "      <td>2000.680851</td>\n",
       "      <td>3.170213</td>\n",
       "      <td>340412.659574</td>\n",
       "    </tr>\n",
       "    <tr>\n",
       "      <th>std</th>\n",
       "      <td>794.702354</td>\n",
       "      <td>0.760982</td>\n",
       "      <td>125039.899586</td>\n",
       "    </tr>\n",
       "    <tr>\n",
       "      <th>min</th>\n",
       "      <td>852.000000</td>\n",
       "      <td>1.000000</td>\n",
       "      <td>169900.000000</td>\n",
       "    </tr>\n",
       "    <tr>\n",
       "      <th>25%</th>\n",
       "      <td>1432.000000</td>\n",
       "      <td>3.000000</td>\n",
       "      <td>249900.000000</td>\n",
       "    </tr>\n",
       "    <tr>\n",
       "      <th>50%</th>\n",
       "      <td>1888.000000</td>\n",
       "      <td>3.000000</td>\n",
       "      <td>299900.000000</td>\n",
       "    </tr>\n",
       "    <tr>\n",
       "      <th>75%</th>\n",
       "      <td>2269.000000</td>\n",
       "      <td>4.000000</td>\n",
       "      <td>384450.000000</td>\n",
       "    </tr>\n",
       "    <tr>\n",
       "      <th>max</th>\n",
       "      <td>4478.000000</td>\n",
       "      <td>5.000000</td>\n",
       "      <td>699900.000000</td>\n",
       "    </tr>\n",
       "  </tbody>\n",
       "</table>\n",
       "</div>"
      ],
      "text/plain": [
       "              Size   Bedrooms          Price\n",
       "count    47.000000  47.000000      47.000000\n",
       "mean   2000.680851   3.170213  340412.659574\n",
       "std     794.702354   0.760982  125039.899586\n",
       "min     852.000000   1.000000  169900.000000\n",
       "25%    1432.000000   3.000000  249900.000000\n",
       "50%    1888.000000   3.000000  299900.000000\n",
       "75%    2269.000000   4.000000  384450.000000\n",
       "max    4478.000000   5.000000  699900.000000"
      ]
     },
     "execution_count": 4,
     "metadata": {},
     "output_type": "execute_result"
    }
   ],
   "source": [
    "data2.describe()"
   ]
  },
  {
   "cell_type": "code",
   "execution_count": 5,
   "metadata": {},
   "outputs": [
    {
     "data": {
      "text/plain": [
       "852"
      ]
     },
     "execution_count": 5,
     "metadata": {},
     "output_type": "execute_result"
    }
   ],
   "source": [
    "data2.Size.min()"
   ]
  },
  {
   "cell_type": "markdown",
   "metadata": {},
   "source": [
    "We have information about 47 homes in this dataset. Each house is described by two characteristics or \"features\"."
   ]
  },
  {
   "cell_type": "markdown",
   "metadata": {},
   "source": [
    "## Step 1: Visualize the Data"
   ]
  },
  {
   "cell_type": "code",
   "execution_count": 6,
   "metadata": {},
   "outputs": [
    {
     "data": {
      "text/plain": [
       "<matplotlib.axes._subplots.AxesSubplot at 0x11a36d6a0>"
      ]
     },
     "execution_count": 6,
     "metadata": {},
     "output_type": "execute_result"
    },
    {
     "data": {
      "image/png": "[encoded data removed]",
      "text/plain": [
       "<matplotlib.figure.Figure at 0x108e629e8>"
      ]
     },
     "metadata": {},
     "output_type": "display_data"
    }
   ],
   "source": [
    "data2.plot.scatter(x='Size', y='Price', figsize=(8,5))"
   ]
  },
  {
   "cell_type": "code",
   "execution_count": 7,
   "metadata": {},
   "outputs": [
    {
     "data": {
      "text/plain": [
       "<matplotlib.axes._subplots.AxesSubplot at 0x11a4add30>"
      ]
     },
     "execution_count": 7,
     "metadata": {},
     "output_type": "execute_result"
    },
    {
     "data": {
      "image/png": "[encoded data removed]",
      "text/plain": [
       "<matplotlib.figure.Figure at 0x11a463278>"
      ]
     },
     "metadata": {},
     "output_type": "display_data"
    }
   ],
   "source": [
    "data2.plot.scatter(x='Bedrooms', y='Price', figsize=(8,5))"
   ]
  },
  {
   "cell_type": "code",
   "execution_count": 8,
   "metadata": {},
   "outputs": [
    {
     "data": {
      "text/plain": [
       "<matplotlib.axes._subplots.AxesSubplot at 0x11a463e10>"
      ]
     },
     "execution_count": 8,
     "metadata": {},
     "output_type": "execute_result"
    },
    {
     "data": {
      "image/png": "[encoded data removed]",
      "text/plain": [
       "<matplotlib.figure.Figure at 0x11a4ad940>"
      ]
     },
     "metadata": {},
     "output_type": "display_data"
    }
   ],
   "source": [
    "data2.plot.scatter(x='Bedrooms', y='Size', figsize=(8,5))"
   ]
  },
  {
   "cell_type": "code",
   "execution_count": 9,
   "metadata": {},
   "outputs": [
    {
     "data": {
      "image/png": "[encoded data removed]",
      "text/plain": [
       "<matplotlib.figure.Figure at 0x11c7807b8>"
      ]
     },
     "metadata": {},
     "output_type": "display_data"
    }
   ],
   "source": [
    "# 3D scatter plot\n",
    "from mpl_toolkits.mplot3d import Axes3D\n",
    "threedee = plt.figure(figsize=(10,8)).gca(projection='3d')\n",
    "threedee.scatter(data2['Bedrooms'], data2['Size'], data2['Price'])\n",
    "threedee.set_xlabel('Bedrooms')\n",
    "threedee.set_ylabel('Size')\n",
    "threedee.set_zlabel('Price')\n",
    "plt.show()"
   ]
  },
  {
   "cell_type": "markdown",
   "metadata": {},
   "source": [
    "## Rescale/Normalize the Data\n",
    "Notice that the size of a house in square feet is about 1,000 times the number of bedrooms it has. Similarly, the price of a house is about 100 times the size of the house. This is quite common in many datasets, but when it happens, the iterative method of gradient descent (which we'll use again) becomes inefficient. This is simply a matter of making the computations efficient. To do so, we'll do something called *feature normalization*."
   ]
  },
  {
   "cell_type": "code",
   "execution_count": 10,
   "metadata": {},
   "outputs": [
    {
     "data": {
      "text/html": [
       "<div>\n",
       "<style>\n",
       "    .dataframe thead tr:only-child th {\n",
       "        text-align: right;\n",
       "    }\n",
       "\n",
       "    .dataframe thead th {\n",
       "        text-align: left;\n",
       "    }\n",
       "\n",
       "    .dataframe tbody tr th {\n",
       "        vertical-align: top;\n",
       "    }\n",
       "</style>\n",
       "<table border=\"1\" class=\"dataframe\">\n",
       "  <thead>\n",
       "    <tr style=\"text-align: right;\">\n",
       "      <th></th>\n",
       "      <th>Size</th>\n",
       "      <th>Bedrooms</th>\n",
       "      <th>Price</th>\n",
       "    </tr>\n",
       "  </thead>\n",
       "  <tbody>\n",
       "    <tr>\n",
       "      <th>0</th>\n",
       "      <td>0.130010</td>\n",
       "      <td>-0.223675</td>\n",
       "      <td>0.475747</td>\n",
       "    </tr>\n",
       "    <tr>\n",
       "      <th>1</th>\n",
       "      <td>-0.504190</td>\n",
       "      <td>-0.223675</td>\n",
       "      <td>-0.084074</td>\n",
       "    </tr>\n",
       "    <tr>\n",
       "      <th>2</th>\n",
       "      <td>0.502476</td>\n",
       "      <td>-0.223675</td>\n",
       "      <td>0.228626</td>\n",
       "    </tr>\n",
       "    <tr>\n",
       "      <th>3</th>\n",
       "      <td>-0.735723</td>\n",
       "      <td>-1.537767</td>\n",
       "      <td>-0.867025</td>\n",
       "    </tr>\n",
       "    <tr>\n",
       "      <th>4</th>\n",
       "      <td>1.257476</td>\n",
       "      <td>1.090417</td>\n",
       "      <td>1.595389</td>\n",
       "    </tr>\n",
       "  </tbody>\n",
       "</table>\n",
       "</div>"
      ],
      "text/plain": [
       "       Size  Bedrooms     Price\n",
       "0  0.130010 -0.223675  0.475747\n",
       "1 -0.504190 -0.223675 -0.084074\n",
       "2  0.502476 -0.223675  0.228626\n",
       "3 -0.735723 -1.537767 -0.867025\n",
       "4  1.257476  1.090417  1.595389"
      ]
     },
     "execution_count": 10,
     "metadata": {},
     "output_type": "execute_result"
    }
   ],
   "source": [
    "# Normalize the dataset\n",
    "data2Norm = (data2 - data2.mean()) / data2.std()\n",
    "data2Norm.head()"
   ]
  },
  {
   "cell_type": "code",
   "execution_count": 11,
   "metadata": {},
   "outputs": [
    {
     "data": {
      "text/plain": [
       "(2000.6808510638298,\n",
       " 3.1702127659574466,\n",
       " 340412.6595744681,\n",
       " 794.70235353388966,\n",
       " 0.76098188678009993,\n",
       " 125039.89958640098)"
      ]
     },
     "execution_count": 11,
     "metadata": {},
     "output_type": "execute_result"
    }
   ],
   "source": [
    "# Let's keep track of the mean and standard deviation of the house sizes, number of bedrooms, and prices in the dataset.\n",
    "# We'll need these values when we make predictions\n",
    "\n",
    "# We can get them easily for size, bedrooms and price by using data2.mean()[0], ..., [2]\n",
    "data2.mean()[0], data2.mean()[1], data2.mean()[2], data2.std()[0], data2.std()[1], data2.std()[2]"
   ]
  },
  {
   "cell_type": "markdown",
   "metadata": {},
   "source": [
    "## Step 2: Define the Task You Want to Accomplish"
   ]
  },
  {
   "cell_type": "markdown",
   "metadata": {},
   "source": [
    "### Step 2a: Identify the Inputs\n",
    "In this case we have 2 inputs -- the size and number of bedrooms of the house. "
   ]
  },
  {
   "cell_type": "code",
   "execution_count": 12,
   "metadata": {
    "collapsed": true
   },
   "outputs": [],
   "source": [
    "# Number of columns in the dataset\n",
    "cols = data2Norm.shape[1]\n",
    "# Inputs are our first two columns\n",
    "X = data2Norm.iloc[:, 0:cols-1]\n",
    "# Add an initial column of 1s to X to keep the notation simple\n",
    "# X.insert(0,'x0',1)"
   ]
  },
  {
   "cell_type": "code",
   "execution_count": 13,
   "metadata": {},
   "outputs": [
    {
     "data": {
      "text/html": [
       "<div>\n",
       "<style>\n",
       "    .dataframe thead tr:only-child th {\n",
       "        text-align: right;\n",
       "    }\n",
       "\n",
       "    .dataframe thead th {\n",
       "        text-align: left;\n",
       "    }\n",
       "\n",
       "    .dataframe tbody tr th {\n",
       "        vertical-align: top;\n",
       "    }\n",
       "</style>\n",
       "<table border=\"1\" class=\"dataframe\">\n",
       "  <thead>\n",
       "    <tr style=\"text-align: right;\">\n",
       "      <th></th>\n",
       "      <th>Size</th>\n",
       "      <th>Bedrooms</th>\n",
       "    </tr>\n",
       "  </thead>\n",
       "  <tbody>\n",
       "    <tr>\n",
       "      <th>0</th>\n",
       "      <td>0.130010</td>\n",
       "      <td>-0.223675</td>\n",
       "    </tr>\n",
       "    <tr>\n",
       "      <th>1</th>\n",
       "      <td>-0.504190</td>\n",
       "      <td>-0.223675</td>\n",
       "    </tr>\n",
       "    <tr>\n",
       "      <th>2</th>\n",
       "      <td>0.502476</td>\n",
       "      <td>-0.223675</td>\n",
       "    </tr>\n",
       "    <tr>\n",
       "      <th>3</th>\n",
       "      <td>-0.735723</td>\n",
       "      <td>-1.537767</td>\n",
       "    </tr>\n",
       "    <tr>\n",
       "      <th>4</th>\n",
       "      <td>1.257476</td>\n",
       "      <td>1.090417</td>\n",
       "    </tr>\n",
       "  </tbody>\n",
       "</table>\n",
       "</div>"
      ],
      "text/plain": [
       "       Size  Bedrooms\n",
       "0  0.130010 -0.223675\n",
       "1 -0.504190 -0.223675\n",
       "2  0.502476 -0.223675\n",
       "3 -0.735723 -1.537767\n",
       "4  1.257476  1.090417"
      ]
     },
     "execution_count": 13,
     "metadata": {},
     "output_type": "execute_result"
    }
   ],
   "source": [
    "X.head()"
   ]
  },
  {
   "cell_type": "markdown",
   "metadata": {},
   "source": [
    "### Step 2b: Identify the Output\n",
    "The output is the house price. Let's set it up as a variable y."
   ]
  },
  {
   "cell_type": "code",
   "execution_count": 14,
   "metadata": {
    "collapsed": true
   },
   "outputs": [],
   "source": [
    "# The output\n",
    "y = data2Norm.iloc[:, cols-1:cols]"
   ]
  },
  {
   "cell_type": "code",
   "execution_count": 15,
   "metadata": {},
   "outputs": [
    {
     "data": {
      "text/html": [
       "<div>\n",
       "<style>\n",
       "    .dataframe thead tr:only-child th {\n",
       "        text-align: right;\n",
       "    }\n",
       "\n",
       "    .dataframe thead th {\n",
       "        text-align: left;\n",
       "    }\n",
       "\n",
       "    .dataframe tbody tr th {\n",
       "        vertical-align: top;\n",
       "    }\n",
       "</style>\n",
       "<table border=\"1\" class=\"dataframe\">\n",
       "  <thead>\n",
       "    <tr style=\"text-align: right;\">\n",
       "      <th></th>\n",
       "      <th>Price</th>\n",
       "    </tr>\n",
       "  </thead>\n",
       "  <tbody>\n",
       "    <tr>\n",
       "      <th>0</th>\n",
       "      <td>0.475747</td>\n",
       "    </tr>\n",
       "    <tr>\n",
       "      <th>1</th>\n",
       "      <td>-0.084074</td>\n",
       "    </tr>\n",
       "    <tr>\n",
       "      <th>2</th>\n",
       "      <td>0.228626</td>\n",
       "    </tr>\n",
       "    <tr>\n",
       "      <th>3</th>\n",
       "      <td>-0.867025</td>\n",
       "    </tr>\n",
       "    <tr>\n",
       "      <th>4</th>\n",
       "      <td>1.595389</td>\n",
       "    </tr>\n",
       "  </tbody>\n",
       "</table>\n",
       "</div>"
      ],
      "text/plain": [
       "      Price\n",
       "0  0.475747\n",
       "1 -0.084074\n",
       "2  0.228626\n",
       "3 -0.867025\n",
       "4  1.595389"
      ]
     },
     "execution_count": 15,
     "metadata": {},
     "output_type": "execute_result"
    }
   ],
   "source": [
    "y.head()"
   ]
  },
  {
   "cell_type": "markdown",
   "metadata": {},
   "source": [
    "## Step 3: Define the Model"
   ]
  },
  {
   "cell_type": "markdown",
   "metadata": {},
   "source": [
    "### Step 3a: Define the Features\n",
    "\n",
    "In this case our features are exactly the same as our inputs. We have 2 features: the size of a house in square feet and the number of bedrooms a house has. These are the features encoded in the variables $x_{1}$ and $x_{2}$.\n",
    "\n",
    "Later we'll see models where the features and the inputs are not one and the same. In these cases the features are constructed by combining inputs in various ways."
   ]
  },
  {
   "cell_type": "markdown",
   "metadata": {},
   "source": [
    "### Step 3b: Transform the Inputs Into an Output\n",
    "\n",
    "We're going to stick to a simple model -- exactly the same one as before but now with an additional feature.\n",
    "\n",
    "$$y = h_{W}(X) = w_{0} * x_{0}\\ +\\ w_{1} * x_{1} +\\ w_{2} * x_{2}$$\n",
    "\n",
    "It's still linear but now has more than 1 variable, hence the $x_{2}$."
   ]
  },
  {
   "cell_type": "markdown",
   "metadata": {},
   "source": [
    "### Step 3c: Clarify the Parameters of the Model\n",
    "\n",
    "$w_{0}$, $w_{1}$, and $w_{2}$ are the *parameters* of the model. These parameters can each take on an infinite number of values. In other words they are continuous variables. $w_{0}$ is called the *bias value*.\n",
    "\n",
    "With this model, we know exactly how to transform an input into an output -- that is, once the values of the parameters are given.\n",
    "\n",
    "Let's pick a value of X from the dataset, fix a specific value for $w_{0}$ and $w_{1}$, and see what we get for the value of y.\n",
    "\n",
    "Specifically, let\n",
    "$\\begin{bmatrix}\n",
    "w_{0} \\\\\n",
    "w_{1} \\\\\n",
    "w_{2}\n",
    "\\end{bmatrix} = \n",
    "\\begin{bmatrix}\n",
    "-10 \\\\\n",
    "1 \\\\\n",
    "0\n",
    "\\end{bmatrix}$\n",
    "\n",
    "This means $w_{0}$ is -10, $w_{1}$ is 1, and $w_{2}$ is 0.\n",
    "\n",
    "Let's try out X * W for the first few rows of X."
   ]
  },
  {
   "cell_type": "code",
   "execution_count": 29,
   "metadata": {},
   "outputs": [
    {
     "data": {
      "text/plain": [
       "matrix([[ -9.86999013],\n",
       "        [-10.50418984],\n",
       "        [ -9.49752364],\n",
       "        [-10.73572306],\n",
       "        [ -8.74252398]])"
      ]
     },
     "execution_count": 29,
     "metadata": {},
     "output_type": "execute_result"
    }
   ],
   "source": [
    "# X * W for the first 5 rows of X\n",
    "df_addOnes(X.iloc[0:5]) * np.matrix('-10;1;0')"
   ]
  },
  {
   "cell_type": "code",
   "execution_count": 20,
   "metadata": {
    "collapsed": true
   },
   "outputs": [],
   "source": [
    "# Outputs generated by our model for the first 5 inputs with the specific theta values below\n",
    "W_init = [-1, 1.4, 0.5]\n",
    "learning_rate = 0.001 # the learning rate\n",
    "num_iters = 10 # number of iterations"
   ]
  },
  {
   "cell_type": "code",
   "execution_count": 24,
   "metadata": {},
   "outputs": [],
   "source": [
    "W_opt, final_penalty, running_w, running_penalty = gradientDescent(X, y, W_init, num_iters, learning_rate)"
   ]
  },
  {
   "cell_type": "code",
   "execution_count": 33,
   "metadata": {},
   "outputs": [
    {
     "data": {
      "text/html": [
       "<div>\n",
       "<style>\n",
       "    .dataframe thead tr:only-child th {\n",
       "        text-align: right;\n",
       "    }\n",
       "\n",
       "    .dataframe thead th {\n",
       "        text-align: left;\n",
       "    }\n",
       "\n",
       "    .dataframe tbody tr th {\n",
       "        vertical-align: top;\n",
       "    }\n",
       "</style>\n",
       "<table border=\"1\" class=\"dataframe\">\n",
       "  <thead>\n",
       "    <tr style=\"text-align: right;\">\n",
       "      <th></th>\n",
       "      <th>Price</th>\n",
       "    </tr>\n",
       "  </thead>\n",
       "  <tbody>\n",
       "    <tr>\n",
       "      <th>0</th>\n",
       "      <td>0.475747</td>\n",
       "    </tr>\n",
       "    <tr>\n",
       "      <th>1</th>\n",
       "      <td>-0.084074</td>\n",
       "    </tr>\n",
       "    <tr>\n",
       "      <th>2</th>\n",
       "      <td>0.228626</td>\n",
       "    </tr>\n",
       "    <tr>\n",
       "      <th>3</th>\n",
       "      <td>-0.867025</td>\n",
       "    </tr>\n",
       "    <tr>\n",
       "      <th>4</th>\n",
       "      <td>1.595389</td>\n",
       "    </tr>\n",
       "  </tbody>\n",
       "</table>\n",
       "</div>"
      ],
      "text/plain": [
       "      Price\n",
       "0  0.475747\n",
       "1 -0.084074\n",
       "2  0.228626\n",
       "3 -0.867025\n",
       "4  1.595389"
      ]
     },
     "execution_count": 33,
     "metadata": {},
     "output_type": "execute_result"
    }
   ],
   "source": [
    "y[0:5]"
   ]
  },
  {
   "cell_type": "code",
   "execution_count": 34,
   "metadata": {},
   "outputs": [
    {
     "data": {
      "text/plain": [
       "matrix([[-0.91908207],\n",
       "        [-1.80187615],\n",
       "        [-0.40061571],\n",
       "        [-2.77046592],\n",
       "        [ 1.29662949]])"
      ]
     },
     "execution_count": 34,
     "metadata": {},
     "output_type": "execute_result"
    }
   ],
   "source": [
    "# Compare these outputs to the actual values of y in the dataset\n",
    "# Here's the difference between \n",
    "(df_addOnes(X.iloc[0:5]) * np.matrix(W_opt))"
   ]
  },
  {
   "cell_type": "markdown",
   "metadata": {},
   "source": [
    "That's quite a bit off from the actual values; so we know that the values for $W$ in $W_{opt}$ must be quite far from the optimal values for $W$ -- the values that will minimize the cost of getting it wrong."
   ]
  },
  {
   "cell_type": "markdown",
   "metadata": {},
   "source": [
    "## Step 4: Define the Penalty for Getting it Wrong\n",
    "Our cost function is exactly the same as it was before for the single variable case. \n",
    "\n",
    "The cost of getting it wrong is defined as a function $J(\\theta)$:\n",
    "\n",
    "$$J(W) = \\frac{1}{2m} \\sum_{i=1}^{m} (h_{w}x^{(i)}) - y^{(i)})^2$$\n",
    "\n",
    "The only difference from what we had before is in $h_{W}(x)$ which as a $w_{2}$ and $x_{2}$ now added as we saw above\n",
    "\n",
    "$$h_{W}(X) = w_{0} * x_{0}\\ +\\ w_{1} * x_{1} +\\ w_{2} * x_{2}$$"
   ]
  },
  {
   "cell_type": "code",
   "execution_count": 35,
   "metadata": {},
   "outputs": [
    {
     "data": {
      "text/plain": [
       "1.0665476022595193"
      ]
     },
     "execution_count": 35,
     "metadata": {},
     "output_type": "execute_result"
    }
   ],
   "source": [
    "# Compute the cost for a given set of W values over the entire dataset\n",
    "# Get X and y in to matrix form\n",
    "penalty(X, y, W_init, squaredPenalty)"
   ]
  },
  {
   "cell_type": "markdown",
   "metadata": {},
   "source": [
    "We don't know yet if this is high or low -- we'll have to try out a whole bunch of $W$ values. Or better yet, we can use pick an iterative method and implement it."
   ]
  },
  {
   "cell_type": "markdown",
   "metadata": {},
   "source": [
    "## Step 5: Find the Parameter Values that Minimize the Penalty"
   ]
  },
  {
   "cell_type": "markdown",
   "metadata": {},
   "source": [
    "Once again, the method that will \"learn\" the optimal values for $W$ is gradient descent. We don't have to do a thing to the function we wrote before for gradient descent. Let's use it to find the minimum cost and the values of $W$ that result in that minimum cost."
   ]
  },
  {
   "cell_type": "code",
   "execution_count": 42,
   "metadata": {
    "collapsed": true
   },
   "outputs": [],
   "source": [
    "# Set hyper-parameters\n",
    "num_iters = 1000 # number of iterations\n",
    "learning_rate = 0.001 # the learning rate\n",
    "learning_rates = [0.001, 0.001, 0.003, 0.01, 0.03, 0.1]"
   ]
  },
  {
   "cell_type": "code",
   "execution_count": 39,
   "metadata": {},
   "outputs": [
    {
     "name": "stdout",
     "output_type": "stream",
     "text": [
      "CPU times: user 300 ms, sys: 5.16 ms, total: 305 ms\n",
      "Wall time: 306 ms\n"
     ]
    },
    {
     "data": {
      "text/plain": [
       "(matrix([[-0.36769542],\n",
       "         [ 0.98830744],\n",
       "         [ 0.07520094]]),\n",
       " 659732.50716359541,\n",
       " [(matrix([[-0.36916989]]), matrix([[ 0.98899692]]), matrix([[ 0.07593288]])),\n",
       "  (matrix([[-0.36880072]]), matrix([[ 0.98882414]]), matrix([[ 0.07574948]])),\n",
       "  (matrix([[-0.36843192]]), matrix([[ 0.98865164]]), matrix([[ 0.07556636]])),\n",
       "  (matrix([[-0.36806349]]), matrix([[ 0.98847941]]), matrix([[ 0.07538352]])),\n",
       "  (matrix([[-0.36769542]]), matrix([[ 0.98830744]]), matrix([[ 0.07520094]]))],\n",
       " array([ 665034.1969773 ,  663704.79361754,  662378.0477351 ,\n",
       "         661053.95401768,  659732.5071636 ]))"
      ]
     },
     "execution_count": 39,
     "metadata": {},
     "output_type": "execute_result"
    }
   ],
   "source": [
    "# Run gradient descent and capture the progression of cost values and the ultimate optimal W values\n",
    "%time W_opt, final_penalty, running_w, running_penalty = gradientDescent(X, y, W_init, num_iters, learning_rate)\n",
    "# Get the optimal theta values and the last few cost values\n",
    "W_opt, final_penalty, running_w[-5:], running_penalty[-5:]"
   ]
  },
  {
   "cell_type": "code",
   "execution_count": 45,
   "metadata": {
    "collapsed": true
   },
   "outputs": [],
   "source": [
    "gdResults = [gradientDescent(X, y, W_init, num_iters, learning_rates[i]) for i in range(len(learning_rates))]"
   ]
  },
  {
   "cell_type": "code",
   "execution_count": 63,
   "metadata": {},
   "outputs": [
    {
     "data": {
      "text/plain": [
       "array([ 4869926.517681  ,  4860191.53457215,  4850476.01169454,\n",
       "        4840779.91014716,  4831103.19110678,  4821445.81582776,\n",
       "        4811807.74564192,  4802188.94195838,  4792589.36626341,\n",
       "        4783008.98012025,  4773447.74516899,  4763905.6231264 ,\n",
       "        4754382.57578576,  4744878.56501677,  4735393.5527653 ,\n",
       "        4725927.50105332,  4716480.37197872,  4707052.12771513,\n",
       "        4697642.73051183,  4688252.14269353,  4678880.32666029,\n",
       "        4669527.2448873 ,  4660192.85992477,  4650877.13439778,\n",
       "        4641580.03100611,  4632301.51252413,  4623041.5418006 ,\n",
       "        4613800.08175854,  4604577.0953951 ,  4595372.54578141,\n",
       "        4586186.39606239,  4577018.60945666,  4567869.14925636,\n",
       "        4558737.978827  ,  4549625.06160732,  4540530.36110917,\n",
       "        4531453.84091731,  4522395.46468932,  4513355.1961554 ,\n",
       "        4504332.99911829,  4495328.83745305,  4486342.67510698,\n",
       "        4477374.47609944,  4468424.20452172,  4459491.82453688,\n",
       "        4450577.30037963,  4441680.59635617,  4432801.67684406,\n",
       "        4423940.50629205,  4415097.04921997,  4406271.27021858,\n",
       "        4397463.13394941,  4388672.60514465,  4379899.64860696,\n",
       "        4371144.2292094 ,  4362406.31189521,  4353685.86167773,\n",
       "        4344982.84364024,  4336297.2229358 ,  4327628.96478715,\n",
       "        4318978.03448654,  4310344.3973956 ,  4301728.01894521,\n",
       "        4293128.86463534,  4284546.90003493,  4275982.09078176,\n",
       "        4267434.40258229,  4258903.80121153,  4250390.2525129 ,\n",
       "        4241893.72239813,  4233414.17684706,  4224951.58190754,\n",
       "        4216505.90369531,  4208077.10839382,  4199665.16225414,\n",
       "        4191270.0315948 ,  4182891.68280164,  4174530.08232772,\n",
       "        4166185.19669314,  4157856.99248495,  4149545.43635698,\n",
       "        4141250.4950297 ,  4132972.13529014,  4124710.32399169,\n",
       "        4116465.02805403,  4108236.21446295,  4100023.85027024,\n",
       "        4091827.90259355,  4083648.33861626,  4075485.12558737,\n",
       "        4067338.23082132,  4059207.62169791,  4051093.26566214,\n",
       "        4042995.13022408,  4034913.18295876,  4026847.39150603,\n",
       "        4018797.72357041,  4010764.14692099,  4002746.62939129,\n",
       "        3994745.13887914,  3986759.64334652,  3978790.11081947,\n",
       "        3970836.50938794,  3962898.80720568,  3954976.97249007,\n",
       "        3947070.97352207,  3939180.778646  ,  3931306.35626948,\n",
       "        3923447.6748633 ,  3915604.70296125,  3907777.40916003,\n",
       "        3899965.76211912,  3892169.73056064,  3884389.28326925,\n",
       "        3876624.389092  ,  3868875.0169382 ,  3861141.13577934,\n",
       "        3853422.71464892,  3845719.72264234,  3838032.12891677,\n",
       "        3830359.90269107,  3822703.01324559,  3815061.42992211,\n",
       "        3807435.1221237 ,  3799824.05931457,  3792228.21102   ,\n",
       "        3784647.54682617,  3777082.03638007,  3769531.64938934,\n",
       "        3761996.35562222,  3754476.12490733,  3746970.92713364,\n",
       "        3739480.7322503 ,  3732005.51026653,  3724545.2312515 ,\n",
       "        3717099.86533423,  3709669.38270343,  3702253.75360741,\n",
       "        3694852.94835394,  3687466.93731019,  3680095.6909025 ,\n",
       "        3672739.17961639,  3665397.37399634,  3658070.24464572,\n",
       "        3650757.76222667,  3643459.89745998,  3636176.62112495,\n",
       "        3628907.90405932,  3621653.71715911,  3614414.03137851,\n",
       "        3607188.81772978,  3599978.04728314,  3592781.69116662,\n",
       "        3585599.72056598,  3578432.10672457,  3571278.82094323,\n",
       "        3564139.83458016,  3557015.11905084,  3549904.64582785,\n",
       "        3542808.38644084,  3535726.31247635,  3528658.39557771,\n",
       "        3521604.60744495,  3514564.91983467,  3507539.30455992,\n",
       "        3500527.7334901 ,  3493530.17855085,  3486546.61172393,\n",
       "        3479577.0050471 ,  3472621.33061401,  3465679.56057411,\n",
       "        3458751.66713252,  3451837.62254992,  3444937.39914245,\n",
       "        3438050.96928156,  3431178.30539397,  3424319.37996148,\n",
       "        3417474.16552094,  3410642.63466406,  3403824.76003737,\n",
       "        3397020.51434206,  3390229.87033389,  3383452.80082309,\n",
       "        3376689.27867424,  3369939.27680617,  3363202.76819184,\n",
       "        3356479.72585822,  3349770.12288623,  3343073.93241058,\n",
       "        3336391.12761969,  3329721.68175558,  3323065.56811375,\n",
       "        3316422.76004309,  3309793.23094577,  3303176.95427711,\n",
       "        3296573.9035455 ,  3289984.05231232,  3283407.37419175,\n",
       "        3276843.84285074,  3270293.43200888,  3263756.11543829,\n",
       "        3257231.86696353,  3250720.66046147,  3244222.46986121,\n",
       "        3237737.26914395,  3231265.03234294,  3224805.73354328,\n",
       "        3218359.34688193,  3211925.84654751,  3205505.20678026,\n",
       "        3199097.40187191,  3192702.40616557,  3186320.19405564,\n",
       "        3179950.73998773,  3173594.01845849,  3167250.00401559,\n",
       "        3160918.67125756,  3154599.99483372,  3148293.94944405,\n",
       "        3142000.50983911,  3135719.65081994,  3129451.34723795,\n",
       "        3123195.57399482,  3116952.30604241,  3110721.51838263,\n",
       "        3104503.18606738,  3098297.28419843,  3092103.78792732,\n",
       "        3085922.67245525,  3079753.91303302,  3073597.48496086,\n",
       "        3067453.36358843,  3061321.52431461,  3055201.94258751,\n",
       "        3049094.59390428,  3042999.45381106,  3036916.49790289,\n",
       "        3030845.70182359,  3024787.04126564,  3018740.49197015,\n",
       "        3012706.0297267 ,  3006683.63037328,  3000673.26979616,\n",
       "        2994674.92392984,  2988688.5687569 ,  2982714.18030796,\n",
       "        2976751.73466152,  2970801.20794393,  2964862.57632926,\n",
       "        2958935.81603917,  2953020.90334291,  2947117.81455713,\n",
       "        2941226.52604583,  2935347.01422026,  2929479.25553884,\n",
       "        2923623.22650701,  2917778.90367723,  2911946.26364878,\n",
       "        2906125.28306774,  2900315.93862689,  2894518.20706557,\n",
       "        2888732.06516965,  2882957.48977138,  2877194.45774932,\n",
       "        2871442.94602828,  2865702.93157917,  2859974.39141894,\n",
       "        2854257.3026105 ,  2848551.64226258,  2842857.3875297 ,\n",
       "        2837174.51561203,  2831503.00375532,  2825842.82925081,\n",
       "        2820193.96943514,  2814556.40169024,  2808930.10344326,\n",
       "        2803315.05216647,  2797711.2253772 ,  2792118.60063767,\n",
       "        2786537.15555499,  2780966.86778104,  2775407.71501234,\n",
       "        2769859.67499003,  2764322.72549973,  2758796.84437145,\n",
       "        2753282.00947955,  2747778.19874261,  2742285.39012332,\n",
       "        2736803.56162846,  2731332.69130877,  2725872.75725884,\n",
       "        2720423.73761708,  2714985.61056558,  2709558.35433006,\n",
       "        2704141.94717976,  2698736.36742734,  2693341.59342886,\n",
       "        2687957.60358359,  2682584.37633403,  2677221.89016574,\n",
       "        2671870.1236073 ,  2666529.0552302 ,  2661198.6636488 ,\n",
       "        2655878.92752017,  2650569.82554405,  2645271.33646279,\n",
       "        2639983.4390612 ,  2634706.11216652,  2629439.3346483 ,\n",
       "        2624183.08541833,  2618937.34343058,  2613702.08768107,\n",
       "        2608477.29720779,  2603262.95109067,  2598059.02845144,\n",
       "        2592865.50845357,  2587682.37030217,  2582509.59324393,\n",
       "        2577347.15656704,  2572195.03960106,  2567053.2217169 ,\n",
       "        2561921.68232669,  2556800.40088372,  2551689.35688235,\n",
       "        2546588.52985794,  2541497.89938676,  2536417.44508588,\n",
       "        2531347.14661316,  2526286.98366708,  2521236.93598672,\n",
       "        2516196.98335169,  2511167.10558197,  2506147.28253791,\n",
       "        2501137.49412012,  2496137.72026937,  2491147.94096655,\n",
       "        2486168.13623256,  2481198.28612823,  2476238.37075426,\n",
       "        2471288.37025112,  2466348.26479899,  2461418.03461766,\n",
       "        2456497.65996646,  2451587.12114418,  2446686.39848902,\n",
       "        2441795.47237844,  2436914.32322915,  2432042.93149702,\n",
       "        2427181.27767695,  2422329.34230288,  2417487.10594761,\n",
       "        2412654.54922283,  2407831.65277893,  2403018.39730502,\n",
       "        2398214.76352881,  2393420.73221652,  2388636.28417282,\n",
       "        2383861.40024076,  2379096.06130167,  2374340.24827513,\n",
       "        2369593.94211883,  2364857.12382854,  2360129.774438  ,\n",
       "        2355411.8750189 ,  2350703.40668074,  2346004.35057078,\n",
       "        2341314.68787399,  2336634.39981293,  2331963.46764771,\n",
       "        2327301.87267588,  2322649.5962324 ,  2318006.61968953,\n",
       "        2313372.92445677,  2308748.49198078,  2304133.30374531,\n",
       "        2299527.34127113,  2294930.58611592,  2290343.01987428,\n",
       "        2285764.62417755,  2281195.38069382,  2276635.27112781,\n",
       "        2272084.27722083,  2267542.38075066,  2263009.56353154,\n",
       "        2258485.80741404,  2253971.09428502,  2249465.40606755,\n",
       "        2244968.72472082,  2240481.0322401 ,  2236002.31065665,\n",
       "        2231532.54203765,  2227071.70848612,  2222619.79214085,\n",
       "        2218176.77517636,  2213742.63980279,  2209317.36826582,\n",
       "        2204900.94284666,  2200493.34586191,  2196094.55966353,\n",
       "        2191704.56663876,  2187323.34921005,  2182950.88983498,\n",
       "        2178587.1710062 ,  2174232.17525136,  2169885.88513303,\n",
       "        2165548.28324865,  2161219.35223043,  2156899.07474533,\n",
       "        2152587.43349491,  2148284.41121535,  2143989.99067733,\n",
       "        2139704.15468597,  2135426.88608075,  2131158.16773548,\n",
       "        2126897.98255817,  2122646.31349104,  2118403.14351037,\n",
       "        2114168.45562649,  2109942.2328837 ,  2105724.45836016,\n",
       "        2101515.1151679 ,  2097314.18645268,  2093121.65539396,\n",
       "        2088937.50520483,  2084761.71913192,  2080594.28045538,\n",
       "        2076435.17248875,  2072284.37857895,  2068141.88210616,\n",
       "        2064007.66648383,  2059881.71515853,  2055764.01160993,\n",
       "        2051654.53935072,  2047553.28192656,  2043460.22291599,\n",
       "        2039375.34593038,  2035298.63461387,  2031230.07264327,\n",
       "        2027169.64372806,  2023117.33161025,  2019073.12006436,\n",
       "        2015036.99289735,  2011008.93394855,  2006988.92708958,\n",
       "        2002976.95622433,  1998973.00528884,  1994977.05825127,\n",
       "        1990989.09911182,  1987009.1119027 ,  1983037.080688  ,\n",
       "        1979072.98956371,  1975116.82265757,  1971168.56412908,\n",
       "        1967228.19816938,  1963295.70900124,  1959371.08087895,\n",
       "        1955454.29808827,  1951545.3449464 ,  1947644.20580185,\n",
       "        1943750.86503445,  1939865.30705524,  1935987.51630644,\n",
       "        1932117.47726135,  1928255.1744243 ,  1924400.59233063,\n",
       "        1920553.71554656,  1916714.52866918,  1912883.01632637,\n",
       "        1909059.16317673,  1905242.95390954,  1901434.37324468,\n",
       "        1897633.40593256,  1893840.0367541 ,  1890054.25052063,\n",
       "        1886276.03207384,  1882505.36628572,  1878742.23805852,\n",
       "        1874986.63232464,  1871238.53404662,  1867497.92821706,\n",
       "        1863764.79985856,  1860039.13402364,  1856320.91579473,\n",
       "        1852610.13028405,  1848906.76263362,  1845210.79801511,\n",
       "        1841522.22162988,  1837841.01870884,  1834167.17451244,\n",
       "        1830500.67433059,  1826841.50348261,  1823189.64731714,\n",
       "        1819545.09121216,  1815907.82057482,  1812277.8208415 ,\n",
       "        1808655.07747763,  1805039.57597776,  1801431.30186538,\n",
       "        1797830.24069295,  1794236.3780418 ,  1790649.6995221 ,\n",
       "        1787070.19077275,  1783497.8374614 ,  1779932.62528431,\n",
       "        1776374.53996637,  1772823.56726098,  1769279.69295002,\n",
       "        1765742.90284381,  1762213.18278103,  1758690.51862865,\n",
       "        1755174.89628191,  1751666.30166424,  1748164.72072722,\n",
       "        1744670.13945048,  1741182.54384172,  1737701.91993658,\n",
       "        1734228.25379863,  1730761.53151929,  1727301.73921778,\n",
       "        1723848.86304108,  1720402.88916386,  1716963.80378842,\n",
       "        1713531.59314465,  1710106.24348996,  1706687.74110922,\n",
       "        1703276.07231474,  1699871.22344618,  1696473.18087052,\n",
       "        1693081.93098195,  1689697.46020192,  1686319.75497898,\n",
       "        1682948.80178878,  1679584.587134  ,  1676227.09754432,\n",
       "        1672876.31957633,  1669532.2398135 ,  1666194.84486611,\n",
       "        1662864.12137122,  1659540.0559926 ,  1656222.63542067,\n",
       "        1652911.84637246,  1649607.67559156,  1646310.10984806,\n",
       "        1643019.13593847,  1639734.74068573,  1636456.9109391 ,\n",
       "        1633185.63357413,  1629920.89549262,  1626662.68362253,\n",
       "        1623410.98491797,  1620165.78635912,  1616927.07495218,\n",
       "        1613694.83772935,  1610469.06174873,  1607249.7340943 ,\n",
       "        1604036.84187584,  1600830.37222893,  1597630.31231485,\n",
       "        1594436.64932053,  1591249.37045854,  1588068.46296699,\n",
       "        1584893.91410952,  1581725.71117521,  1578563.84147858,\n",
       "        1575408.29235946,  1572259.05118303,  1569116.10533972,\n",
       "        1565979.44224514,  1562849.0493401 ,  1559724.91409047,\n",
       "        1556607.0239872 ,  1553495.36654625,  1550389.92930852,\n",
       "        1547290.69983983,  1544197.66573085,  1541110.81459706,\n",
       "        1538030.13407868,  1534955.61184066,  1531887.23557259,\n",
       "        1528824.99298868,  1525768.87182769,  1522718.85985291,\n",
       "        1519674.94485206,  1516637.1146373 ,  1513605.35704514,\n",
       "        1510579.65993641,  1507560.0111962 ,  1504546.39873382,\n",
       "        1501538.81048275,  1498537.23440059,  1495541.65846903,\n",
       "        1492552.07069375,  1489568.45910443,  1486590.81175468,\n",
       "        1483619.11672198,  1480653.36210765,  1477693.5360368 ,\n",
       "        1474739.62665826,  1471791.62214457,  1468849.51069191,\n",
       "        1465913.28052003,  1462982.91987227,  1460058.41701545,\n",
       "        1457139.76023984,  1454226.93785912,  1451319.93821034,\n",
       "        1448418.74965385,  1445523.3605733 ,  1442633.75937551,\n",
       "        1439749.93449052,  1436871.87437147,  1433999.5674946 ,\n",
       "        1431133.00235918,  1428272.16748747,  1425417.05142466,\n",
       "        1422567.64273886,  1419723.93002102,  1416885.90188491,\n",
       "        1414053.54696705,  1411226.85392666,  1408405.81144566,\n",
       "        1405590.40822858,  1402780.63300253,  1399976.47451716,\n",
       "        1397177.9215446 ,  1394384.96287943,  1391597.58733863,\n",
       "        1388815.78376154,  1386039.5410098 ,  1383268.84796733,\n",
       "        1380503.69354024,  1377744.06665685,  1374989.9562676 ,\n",
       "        1372241.35134503,  1369498.24088369,  1366760.61390016,\n",
       "        1364028.45943298,  1361301.76654257,  1358580.52431125,\n",
       "        1355864.72184315,  1353154.34826419,  1350449.39272201,\n",
       "        1347749.84438596,  1345055.69244703,  1342366.92611783,\n",
       "        1339683.53463252,  1337005.50724679,  1334332.8332378 ,\n",
       "        1331665.50190416,  1329003.50256585,  1326346.82456422,\n",
       "        1323695.45726192,  1321049.39004285,  1318408.61231216,\n",
       "        1315773.11349615,  1313142.88304227,  1310517.91041906,\n",
       "        1307898.18511614,  1305283.69664409,  1302674.4345345 ,\n",
       "        1300070.38833986,  1297471.54763357,  1294877.90200985,\n",
       "        1292289.44108374,  1289706.15449101,  1287128.03188818,\n",
       "        1284555.06295244,  1281987.23738159,  1279424.54489407,\n",
       "        1276866.97522883,  1274314.51814534,  1271767.16342357,\n",
       "        1269224.90086389,  1266687.72028706,  1264155.61153421,\n",
       "        1261628.56446675,  1259106.56896638,  1256589.61493502,\n",
       "        1254077.69229476,  1251570.79098787,  1249068.90097668,\n",
       "        1246572.01224363,  1244080.11479115,  1241593.19864169,\n",
       "        1239111.2538376 ,  1236634.27044118,  1234162.23853457,\n",
       "        1231695.14821974,  1229232.98961845,  1226775.7528722 ,\n",
       "        1224323.42814221,  1221876.00560935,  1219433.47547414,\n",
       "        1216995.82795666,  1214563.05329658,  1212135.14175304,\n",
       "        1209712.08360467,  1207293.86914955,  1204880.48870512,\n",
       "        1202471.9326082 ,  1200068.19121491,  1197669.25490067,\n",
       "        1195275.11406013,  1192885.75910712,  1190501.18047467,\n",
       "        1188121.3686149 ,  1185746.31399904,  1183376.00711735,\n",
       "        1181010.43847912,  1178649.5986126 ,  1176293.47806498,\n",
       "        1173942.06740233,  1171595.35720959,  1169253.33809053,\n",
       "        1166916.00066768,  1164583.33558235,  1162255.33349452,\n",
       "        1159931.98508286,  1157613.28104468,  1155299.21209588,\n",
       "        1152989.7689709 ,  1150684.94242272,  1148384.72322282,\n",
       "        1146089.1021611 ,  1143798.07004588,  1141511.61770386,\n",
       "        1139229.73598007,  1136952.41573784,  1134679.64785878,\n",
       "        1132411.42324271,  1130147.73280765,  1127888.56748977,\n",
       "        1125633.91824335,  1123383.77604079,  1121138.13187248,\n",
       "        1118896.97674687,  1116660.30169035,  1114428.09774727,\n",
       "        1112200.35597987,  1109977.06746827,  1107758.2233104 ,\n",
       "        1105543.814622  ,  1103333.83253658,  1101128.26820534,\n",
       "        1098927.11279719,  1096730.35749871,  1094537.99351407,\n",
       "        1092350.01206504,  1090166.40439092,  1087987.16174854,\n",
       "        1085812.27541221,  1083641.73667366,  1081475.53684205,\n",
       "        1079313.6672439 ,  1077156.11922308,  1075002.88414075,\n",
       "        1072853.95337535,  1070709.31832256,  1068568.97039523,\n",
       "        1066432.90102341,  1064301.10165426,  1062173.56375206,\n",
       "        1060050.27879812,  1057931.2382908 ,  1055816.43374546,\n",
       "        1053705.8566944 ,  1051599.49868687,  1049497.35128899,\n",
       "        1047399.40608377,  1045305.654671  ,  1043216.08866732,\n",
       "        1041130.69970607,  1039049.47943736,  1036972.41952796,\n",
       "        1034899.51166133,  1032830.74753751,  1030766.11887319,\n",
       "        1028705.61740156,  1026649.23487237,  1024596.96305186,\n",
       "        1022548.79372272,  1020504.71868407,  1018464.72975142,\n",
       "        1016428.81875665,  1014396.97754795,  1012369.19798984,\n",
       "        1010345.47196305,  1008325.7913646 ,  1006310.14810766,\n",
       "        1004298.5341216 ,  1002290.94135189,  1000287.36176012,\n",
       "         998287.78732397,   996292.2100371 ,   994300.62190924,\n",
       "         992313.01496604,   990329.38124913,   988349.71281601,\n",
       "         986374.00174009,   984402.24011061,   982434.42003263,\n",
       "         980470.53362699,   978510.57303027,   976554.53039478,\n",
       "         974602.39788852,   972654.16769514,   970709.83201392,\n",
       "         968769.38305972,   966832.81306299,   964900.11426967,\n",
       "         962971.27894125,   961046.29935464,   959125.16780223,\n",
       "         957207.8765918 ,   955294.41804649,   953384.78450482,\n",
       "         951478.96832059,   949576.96186292,   947678.75751615,\n",
       "         945784.34767988,   943893.72476887,   942006.88121305,\n",
       "         940123.80945751,   938244.5019624 ,   936368.95120298,\n",
       "         934497.14966953,   932629.08986734,   930764.76431669,\n",
       "         928904.16555282,   927047.28612588,   925194.11860092,\n",
       "         923344.65555783,   921498.88959137,   919656.81331108,\n",
       "         917818.41934127,   915983.70032101,   914152.64890407,\n",
       "         912325.25775891,   910501.51956865,   908681.42703103,\n",
       "         906864.97285839,   905052.14977765,   903242.95053024,\n",
       "         901437.36787213,   899635.39457376,   897837.02342001,\n",
       "         896042.24721019,   894251.05875802,   892463.45089156,\n",
       "         890679.41645323,   888898.94829974,   887122.03930208,\n",
       "         885348.68234552,   883578.87032951,   881812.59616772,\n",
       "         880049.85278798,   878290.63313226,   876534.93015663,\n",
       "         874782.73683125,   873034.04614032,   871288.85108208,\n",
       "         869547.14466877,   867808.91992658,   866074.16989565,\n",
       "         864342.88763002,   862615.06619765,   860890.69868032,\n",
       "         859169.77817366,   857452.29778709,   855738.25064382,\n",
       "         854027.62988078,   852320.42864865,   850616.64011178,\n",
       "         848916.25744819,   847219.27384956,   845525.68252113,\n",
       "         843835.47668177,   842148.64956388,   840465.19441341,\n",
       "         838785.10448977,   837108.3730659 ,   835434.99342814,\n",
       "         833764.95887628,   832098.26272348,   830434.8982963 ,\n",
       "         828774.8589346 ,   827118.13799159,   825464.72883375,\n",
       "         823814.62484081,   822167.81940575,   820524.30593476,\n",
       "         818884.0778472 ,   817247.12857558,   815613.45156556,\n",
       "         813983.04027588,   812355.88817837,   810731.9887579 ,\n",
       "         809111.33551237,   807493.92195268,   805879.7416027 ,\n",
       "         804268.78799924,   802661.05469203,   801056.5352437 ,\n",
       "         799455.22322974,   797857.11223851,   796262.19587114,\n",
       "         794670.4677416 ,   793081.92147658,   791496.55071555,\n",
       "         789914.34911067,   788335.3103268 ,   786759.42804145,\n",
       "         785186.6959448 ,   783617.10773961,   782050.65714123,\n",
       "         780487.33787761,   778927.14368919,   777370.06832896,\n",
       "         775816.10556237,   774265.24916735,   772717.49293426,\n",
       "         771172.83066589,   769631.25617738,   768092.76329629,\n",
       "         766557.34586246,   765024.99772808,   763495.71275762,\n",
       "         761969.48482782,   760446.30782765,   758926.1756583 ,\n",
       "         757409.08223316,   755895.02147777,   754383.98732984,\n",
       "         752875.97373917,   751370.97466766,   749868.9840893 ,\n",
       "         748369.99599011,   746874.00436812,   745381.00323339,\n",
       "         743890.98660793,   742403.9485257 ,   740919.8830326 ,\n",
       "         739438.78418641,   737960.64605682,   736485.46272536,\n",
       "         735013.22828537,   733543.93684203,   732077.58251228,\n",
       "         730614.15942484,   729153.66172015,   727696.08355037,\n",
       "         726241.41907935,   724789.66248261,   723340.80794731,\n",
       "         721894.84967222,   720451.78186773,   719011.59875577,\n",
       "         717574.29456986,   716139.86355502,   714708.29996777,\n",
       "         713279.59807613,   711853.75215958,   710430.75650901,\n",
       "         709010.60542675,   707593.2932265 ,   706178.81423334,\n",
       "         704767.16278369,   703358.33322529,   701952.31991717,\n",
       "         700549.11722965,   699148.71954431,   697751.12125394,\n",
       "         696356.31676256,   694964.30048535,   693575.06684868,\n",
       "         692188.61029005,   690804.92525808,   689424.00621249,\n",
       "         688045.84762407,   686670.44397467,   685297.78975716,\n",
       "         683927.87947544,   682560.70764437,   681196.26878979,\n",
       "         679834.55744848,   678475.56816814,   677119.29550737,\n",
       "         675765.73403565,   674414.87833331,   673066.72299152,\n",
       "         671721.26261226,   670378.4918083 ,   669038.40520318,\n",
       "         667700.99743117,   666366.26313731,   665034.1969773 ,\n",
       "         663704.79361754,   662378.0477351 ,   661053.95401768,\n",
       "         659732.5071636 ])"
      ]
     },
     "execution_count": 63,
     "metadata": {},
     "output_type": "execute_result"
    }
   ],
   "source": [
    "penalty_list = [gdResults[i][3] for i in range(len(gdResults))]\n",
    "penalty_list[0]"
   ]
  },
  {
   "cell_type": "code",
   "execution_count": 40,
   "metadata": {},
   "outputs": [
    {
     "data": {
      "text/plain": [
       "<matplotlib.text.Text at 0x11cca5358>"
      ]
     },
     "execution_count": 40,
     "metadata": {},
     "output_type": "execute_result"
    },
    {
     "data": {
      "image/png": "[encoded data removed]",
      "text/plain": [
       "<matplotlib.figure.Figure at 0x11cb030b8>"
      ]
     },
     "metadata": {},
     "output_type": "display_data"
    }
   ],
   "source": [
    "# How the penalty changes as the number of iterations increase\n",
    "fig, ax = plt.subplots(figsize=(8,5))\n",
    "ax.plot(np.arange(num_iters), running_penalty, 'g')\n",
    "ax.set_xlabel('Number of Iterations')\n",
    "ax.set_ylabel('Penalty')\n",
    "ax.set_title('Penalty vs. Iterations Over the Dataset')"
   ]
  },
  {
   "cell_type": "code",
   "execution_count": 64,
   "metadata": {},
   "outputs": [
    {
     "data": {
      "text/plain": [
       "<matplotlib.text.Text at 0x11cf316d8>"
      ]
     },
     "execution_count": 64,
     "metadata": {},
     "output_type": "execute_result"
    },
    {
     "data": {
      "image/png": "[encoded data removed]",
      "text/plain": [
       "<matplotlib.figure.Figure at 0x11d249550>"
      ]
     },
     "metadata": {},
     "output_type": "display_data"
    }
   ],
   "source": [
    "# How the cost of the transformation varies with the learning rate\n",
    "fig, ax = plt.subplots(figsize=(8,5))\n",
    "[ax.plot(np.arange(num_iters), penalty_list[i], 'g', label=learning_rates[i]) for i in range(len(learning_rates))]\n",
    "ax.set_xlabel('Iterations')\n",
    "ax.set_ylabel('Penalty')\n",
    "ax.legend()\n",
    "ax.set_title('Penalty vs. Learning Rate')"
   ]
  },
  {
   "cell_type": "markdown",
   "metadata": {
    "collapsed": true
   },
   "source": [
    "## Step 6: Use the Model and Optimal Parameter Values to Make Predictions\n",
    "\n",
    "It looks like a learning rate ($\\alpha$ value) greater than 0.003 is good enough to get our iterative gradient descent to plunge down to arrive at the lowest cost value and stay there. \n",
    "\n",
    "Let's make some predictions...What is our prediction for a house that is 5,000 square feet in size with 4 bedrooms? Let's plug these in to our model and use the optimal $\\theta$ values we've calculated above."
   ]
  },
  {
   "cell_type": "code",
   "execution_count": 85,
   "metadata": {},
   "outputs": [
    {
     "name": "stdout",
     "output_type": "stream",
     "text": [
      "Predicted Price:  $             938,949\n"
     ]
    }
   ],
   "source": [
    "# Change size and num_bedrooms to make distinct predictions\n",
    "size = 6000\n",
    "num_bedrooms = 5\n",
    "\n",
    "# Remember we've run the model using rescaled house sizes and number of bedrooms\n",
    "# So we should scale the inputs down and then scale the prediction up when we're done\n",
    "size_scaled = (size - data2.mean()[0])/data2.std()[0]\n",
    "beds_scaled = (num_bedrooms - data2.mean()[1])/data2.std()[1]\n",
    "\n",
    "# This is our model -- we're just using it here to make a calculation\n",
    "pred_price = (W_opt[0] * 1) + (W_opt[1] * size_scaled) + (W_opt[2] * beds_scaled)\n",
    "\n",
    "# Now we re-re-scale the price to convert it back to the right order of magnitude\n",
    "pred_price_real = (pred_price * data2.std()[2]) + data2.mean()[2]\n",
    "\n",
    "# Format and print the result\n",
    "print(\"Predicted Price: \", '${:20,.0f}'.format(math.ceil(pred_price_real)))"
   ]
  },
  {
   "cell_type": "markdown",
   "metadata": {},
   "source": [
    "You'll notice that the predicted prices are mostly driven by the size of the house; the number of bedrooms don't matter as much."
   ]
  },
  {
   "cell_type": "markdown",
   "metadata": {},
   "source": [
    "## Step 7: Measure the Performance of the Model\n",
    "\n",
    "We're going to delay this step until later on in the course."
   ]
  },
  {
   "cell_type": "markdown",
   "metadata": {},
   "source": [
    "## Summary\n",
    "\n",
    "Regression with more than one feature is just as straightforward to implement as regression with one feature. Having more features makes it harder to visualize the penalty surface (three or more parameters means we'd have to produce 4-dimensional plots -- which are not impossible but harder to do). Also, having more features makes it a more intense optimization problem; but thankfully, computers are especially good at this sort of thing.\n",
    "\n",
    "In fact, it would be quite difficult to write efficient versions of gradient descent for large optimization problems. Again, thankfully, this is a vast areas of research in applied mathematics (numerical computational techniques) and computer science (algorithm design). We will soon be tapping into this work and use highly efficient numerical computation techniques and algorithms to crunch through our machine learning problems.\n",
    "\n",
    "The concepts of machine learning and the 7 steps -- what it is how machines/software programs are able to do it -- remain the same throughout. To recap, we learned about the following:\n",
    "- dataset inputs, features, and outputs\n",
    "- the model for transforming features into outputs and its parameters\n",
    "- the penalty for straying from the correct output\n",
    "- the algorithm for finding the optimal values of the parmeters (the algorithm for \"learning\" the optimal parameters)\n",
    "- the \"hyperparameters\" of the learning algorithm -- learning rate and number of iterations over the entire dataset\n",
    "- making predictions based on the learned optimal values of the model parameters"
   ]
  },
  {
   "cell_type": "code",
   "execution_count": null,
   "metadata": {
    "collapsed": true
   },
   "outputs": [],
   "source": []
  }
 ],
 "metadata": {
  "anaconda-cloud": {},
  "kernelspec": {
   "display_name": "Python 3",
   "language": "python",
   "name": "python3"
  },
  "language_info": {
   "codemirror_mode": {
    "name": "ipython",
    "version": 3
   },
   "file_extension": ".py",
   "mimetype": "text/x-python",
   "name": "python",
   "nbconvert_exporter": "python",
   "pygments_lexer": "ipython3",
   "version": "3.6.1"
  }
 },
 "nbformat": 4,
 "nbformat_minor": 1
}
