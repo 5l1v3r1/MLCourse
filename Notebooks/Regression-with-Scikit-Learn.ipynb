{
 "cells": [
  {
   "cell_type": "markdown",
   "metadata": {},
   "source": [
    "# Automating Regression with Scikit-Learn"
   ]
  },
  {
   "cell_type": "markdown",
   "metadata": {},
   "source": [
    "TO DO\n",
    "- Run the SGDRegressor model for the house price data set (regression with multiple features)"
   ]
  },
  {
   "cell_type": "markdown",
   "metadata": {},
   "source": [
    "## Introduction\n",
    "\n",
    "[Scikit-Learn](http://scikit-learn.org/stable/) is a Python library for machine learning. It is powerful, easy to use, and contains a lot of functionality. Perhaps for these reasons, it is also very widely used. Instead of programming models from scratch, we'll plug into Scikit-Learn's functionality. This will make our models more powerful, easier to build and experiment with, faster to deploy, and much more maintainable."
   ]
  },
  {
   "cell_type": "code",
   "execution_count": 232,
   "metadata": {
    "collapsed": true
   },
   "outputs": [],
   "source": [
    "# Load up the packages to investigate the data\n",
    "import numpy as np\n",
    "import pandas as pd\n",
    "import matplotlib.pyplot as plt\n",
    "import matplotlib.cm as cm\n",
    "%matplotlib inline\n",
    "import seaborn as sns"
   ]
  },
  {
   "cell_type": "code",
   "execution_count": 233,
   "metadata": {
    "collapsed": true
   },
   "outputs": [],
   "source": [
    "import os\n",
    "# OS-independent way to navigate the file system\n",
    "# Data directory is one directory up in relation to directory of this notebook\n",
    "data_dir_root = os.path.normpath(os.getcwd() + os.sep + os.pardir)\n",
    "data_dir = data_dir_root + os.sep + \"Data\" + os.sep\n",
    "# Where the file is\n",
    "file_url = data_dir + \"food-truck-profits.txt\"\n",
    "# Load the data into a dataframe\n",
    "data = pd.read_csv(file_url, header=None, names=['Population', 'Profit'])"
   ]
  },
  {
   "cell_type": "code",
   "execution_count": 234,
   "metadata": {},
   "outputs": [
    {
     "data": {
      "text/plain": [
       "((97, 1), (97,))"
      ]
     },
     "execution_count": 234,
     "metadata": {},
     "output_type": "execute_result"
    }
   ],
   "source": [
    "# When there's only a single column of data as input, SciKit likes it reshaped into a column vector\n",
    "X = data['Population'].values.reshape(-1,1)\n",
    "# y = data['Profit'].values.reshape(-1,1)\n",
    "# SciKit likes the output vector as an array of values\n",
    "y = data['Profit'].values\n",
    "X.shape, y.shape"
   ]
  },
  {
   "cell_type": "markdown",
   "metadata": {},
   "source": [
    "## Regression with One Feature\n",
    "\n",
    "Let's take the restaurant profit data and use Scikit-Learn to create a regression."
   ]
  },
  {
   "cell_type": "code",
   "execution_count": 235,
   "metadata": {},
   "outputs": [
    {
     "data": {
      "text/plain": [
       "'0.19.0'"
      ]
     },
     "execution_count": 235,
     "metadata": {},
     "output_type": "execute_result"
    }
   ],
   "source": [
    "# Check version\n",
    "import sklearn\n",
    "sklearn.__version__"
   ]
  },
  {
   "cell_type": "code",
   "execution_count": 236,
   "metadata": {
    "collapsed": true
   },
   "outputs": [],
   "source": [
    "from sklearn.linear_model import LinearRegression"
   ]
  },
  {
   "cell_type": "code",
   "execution_count": 237,
   "metadata": {},
   "outputs": [
    {
     "data": {
      "text/plain": [
       "LinearRegression(copy_X=True, fit_intercept=True, n_jobs=1, normalize=False)"
      ]
     },
     "execution_count": 237,
     "metadata": {},
     "output_type": "execute_result"
    }
   ],
   "source": [
    "# Linear regression model with all the Scikit defaults\n",
    "lin_reg = LinearRegression()\n",
    "lin_reg.fit(X,y)"
   ]
  },
  {
   "cell_type": "code",
   "execution_count": 238,
   "metadata": {},
   "outputs": [
    {
     "data": {
      "text/plain": [
       "[-3.8957808783118502, 1.1930336441895935]"
      ]
     },
     "execution_count": 238,
     "metadata": {},
     "output_type": "execute_result"
    }
   ],
   "source": [
    "# Get the optimal values of the parameters\n",
    "[w_0, w_1] = np.array([lin_reg.intercept_, lin_reg.coef_]).flatten()\n",
    "[w_0, w_1]"
   ]
  },
  {
   "cell_type": "code",
   "execution_count": 239,
   "metadata": {},
   "outputs": [
    {
     "name": "stdout",
     "output_type": "stream",
     "text": [
      "['$33,938', '$26,990', '$62,672', '$44,593', '$30,952']\n"
     ]
    }
   ],
   "source": [
    "profits = (lin_reg.predict(X[0:5]) * 10000).flatten()\n",
    "#print(profits)\n",
    "print(['${:5,.0f}'.format(profit) for profit in profits])"
   ]
  },
  {
   "cell_type": "code",
   "execution_count": 240,
   "metadata": {},
   "outputs": [
    {
     "data": {
      "text/plain": [
       "<matplotlib.text.Text at 0x115700e48>"
      ]
     },
     "execution_count": 240,
     "metadata": {},
     "output_type": "execute_result"
    },
    {
     "data": {
      "image/png": "[encoded data removed]",
      "text/plain": [
       "<matplotlib.figure.Figure at 0x11568fb38>"
      ]
     },
     "metadata": {},
     "output_type": "display_data"
    }
   ],
   "source": [
    "# What does the regression line look like?\n",
    "# Create 100 equally spaced values going from the minimum value of population \n",
    "# to the maximum value of the population in the dataset.\n",
    "x = np.linspace(data.Population.min(), data.Population.max(), 100)\n",
    "f = (w_0 * 1) + (w_1 * x)\n",
    "\n",
    "fig, ax = plt.subplots(figsize=(8,5))\n",
    "ax.plot(x, f, 'g', label='Prediction')\n",
    "ax.scatter(data.Population, data.Profit, label='Training Data')\n",
    "ax.legend(loc='upper left')\n",
    "ax.set_xlabel('Population')\n",
    "ax.set_ylabel('Profit')\n",
    "ax.set_title('Predicted Profit vs. Population Size')"
   ]
  },
  {
   "cell_type": "code",
   "execution_count": 241,
   "metadata": {},
   "outputs": [
    {
     "data": {
      "text/plain": [
       "0.70203155378413973"
      ]
     },
     "execution_count": 241,
     "metadata": {},
     "output_type": "execute_result"
    }
   ],
   "source": [
    "lin_reg.score(X,y)"
   ]
  },
  {
   "cell_type": "markdown",
   "metadata": {},
   "source": [
    "### A Closer Look at Machine Learning"
   ]
  },
  {
   "cell_type": "code",
   "execution_count": 242,
   "metadata": {},
   "outputs": [
    {
     "data": {
      "text/plain": [
       "SGDRegressor(alpha=0.0001, average=False, epsilon=0.1, eta0=0.1,\n",
       "       fit_intercept=True, l1_ratio=0.15, learning_rate='constant',\n",
       "       loss='squared_loss', max_iter=500, n_iter=None, penalty='none',\n",
       "       power_t=0.25, random_state=None, shuffle=True, tol=None, verbose=0,\n",
       "       warm_start=False)"
      ]
     },
     "execution_count": 242,
     "metadata": {},
     "output_type": "execute_result"
    }
   ],
   "source": [
    "# The SGDRegressor (stochastic gradient descent) regressor gives us\n",
    "#  control over the number of iterations and amount over the learning rate \n",
    "#  and the number of iterations.\n",
    "from sklearn.linear_model import SGDRegressor\n",
    "# when learning_rate='constant' eta0 -- the starting learning rate -- stays the same for each iteration\n",
    "# learning_rate='invscaling' progressively lowers the learning rate as the number of iterations increase\n",
    "lin_sgd = SGDRegressor(penalty='none', max_iter=500, learning_rate='constant', eta0=0.1)\n",
    "lin_sgd.fit(X,y)"
   ]
  },
  {
   "cell_type": "code",
   "execution_count": 243,
   "metadata": {},
   "outputs": [
    {
     "data": {
      "text/plain": [
       "[-554321575799.55322, 1339803080959.6992]"
      ]
     },
     "execution_count": 243,
     "metadata": {},
     "output_type": "execute_result"
    }
   ],
   "source": [
    "[w_0, w_1] = np.array([lin_sgd.intercept_, lin_sgd.coef_]).flatten()\n",
    "[w_0, w_1]"
   ]
  },
  {
   "cell_type": "code",
   "execution_count": 244,
   "metadata": {},
   "outputs": [
    {
     "name": "stdout",
     "output_type": "stream",
     "text": [
      "['$81,862,753,728,142,784']\n"
     ]
    }
   ],
   "source": [
    "profits = lin_sgd.predict(X[0:1] * 10000)\n",
    "print(['${:5,.0f}'.format(profit) for profit in profits])"
   ]
  },
  {
   "cell_type": "markdown",
   "metadata": {},
   "source": [
    "### EXERCISE\n",
    "\n",
    "1. Change eta0 from 0.0001 to 0.1 in a set number of steps. Describe what happens to the predicted profit of the first restaurant in the dataset. Hold the number of iterations at 1000 throughout. What do you conclude about the SGDRegressor model? \n",
    "\n",
    "2. Change the number of iterations from 1 to 1000 in a set number of steps. Describe what happens to the profit of the first restaurant in the dataset. Hold eta0 at 0.0001 throughout. What do you conclude about the SGDRegressor model?"
   ]
  },
  {
   "cell_type": "code",
   "execution_count": 245,
   "metadata": {
    "collapsed": true
   },
   "outputs": [],
   "source": [
    "# Doing the exercise\n",
    "from sklearn.linear_model import SGDRegressor\n",
    "def get_results(input_array, output_array, eta_0, num_iterations, num_results=1):\n",
    "    \n",
    "    # Load up the SGDRegressor model with the given parameters\n",
    "    sgdR = SGDRegressor(penalty='none', max_iter=num_iterations, learning_rate='constant', eta0=eta_0)\n",
    "    # Fit the model to the inputs and the outputs (the training data)\n",
    "    sgdR.fit(input_array, output_array)\n",
    "    \n",
    "    # Get the parameter values\n",
    "    W = np.array([sgdR.intercept_, sgdR.coef_]).flatten()\n",
    "    \n",
    "    # Get the predicted price(s)\n",
    "    results = sgdR.predict(input_array[0:num_results])\n",
    "    \n",
    "    return [W, results]"
   ]
  },
  {
   "cell_type": "code",
   "execution_count": 246,
   "metadata": {},
   "outputs": [
    {
     "data": {
      "text/plain": [
       "[array([-4.2377579 ,  1.30470413]), array([ 3.73411479])]"
      ]
     },
     "execution_count": 246,
     "metadata": {},
     "output_type": "execute_result"
    }
   ],
   "source": [
    "# Test it out\n",
    "get_results(X, y, 0.01, 1000)"
   ]
  },
  {
   "cell_type": "code",
   "execution_count": 247,
   "metadata": {},
   "outputs": [
    {
     "name": "stdout",
     "output_type": "stream",
     "text": [
      "[array([ 6.77621237, -1.42794261]), array([-1.94865978])]\n",
      "[array([-3.46299575,  7.9818568 ]), array([ 45.30694749])]\n",
      "[array([-3.86563685,  1.82121797]), array([ 7.26218708])]\n",
      "[array([-28.9735882,   4.1367532]), array([-3.69761245])]\n",
      "[array([-198.73232595,  -18.93591455]), array([-314.43265747])]\n"
     ]
    }
   ],
   "source": [
    "# Run the function with the SAME values multiple times\n",
    "# Notice how the price fluctuates for the exact same input values to the function\n",
    "# This is very worrisome! What's happening???\n",
    "# Hint: It has to do with the \"Stochastic\" in \"Stochastic Gradient Descent\" \n",
    "for i in range(5):\n",
    "    print(get_results(X, y, 0.03, 1, 1))    "
   ]
  },
  {
   "cell_type": "markdown",
   "metadata": {},
   "source": [
    "### Profit versus Learning Rate for a Fixed Number of Iterations"
   ]
  },
  {
   "cell_type": "code",
   "execution_count": 248,
   "metadata": {},
   "outputs": [],
   "source": [
    "eta0_values = [0.1, 0.03, 0.01, 0.003, 0.001, 0.0003, 0.0001]\n",
    "eta0_axis = [str(eta0_val) for eta0_val in eta0_values] # axis labels for the plot\n",
    "results = [get_results(X, y, eta0_val , 1000) for eta0_val in eta0_values]"
   ]
  },
  {
   "cell_type": "code",
   "execution_count": 249,
   "metadata": {
    "collapsed": true
   },
   "outputs": [],
   "source": [
    "# Get the w0, w1, and profit values\n",
    "w0_values = [results[i][0][0] for i in range(len(results))]\n",
    "w1_values = [results[i][0][1] for i in range(len(results))]\n",
    "profit_values = [results[i][1] for i in range(len(results))]"
   ]
  },
  {
   "cell_type": "code",
   "execution_count": 250,
   "metadata": {},
   "outputs": [
    {
     "data": {
      "text/plain": [
       "[array([ -2.84656209e+12]),\n",
       " array([ -1.97527837e+10]),\n",
       " array([ 2.53963555]),\n",
       " array([ 3.69985195]),\n",
       " array([ 2.5065923]),\n",
       " array([ 3.28045612]),\n",
       " array([ 3.63812792])]"
      ]
     },
     "execution_count": 250,
     "metadata": {},
     "output_type": "execute_result"
    }
   ],
   "source": [
    "profit_values"
   ]
  },
  {
   "cell_type": "code",
   "execution_count": 251,
   "metadata": {},
   "outputs": [
    {
     "data": {
      "text/plain": [
       "<matplotlib.text.Text at 0x11585b3c8>"
      ]
     },
     "execution_count": 251,
     "metadata": {},
     "output_type": "execute_result"
    },
    {
     "data": {
      "image/png": "[encoded data removed]",
      "text/plain": [
       "<matplotlib.figure.Figure at 0x1157ff6d8>"
      ]
     },
     "metadata": {},
     "output_type": "display_data"
    }
   ],
   "source": [
    "# How the profit changes as the learning rate increases\n",
    "#  Learning faster is not necessarily learning better!\n",
    "fig, ax = plt.subplots(figsize=(8,5))\n",
    "ax.plot(eta0_values, profit_values, 'g')\n",
    "ax.set_xlabel('Learning Rate')\n",
    "ax.set_ylabel('Profit')\n",
    "ax.set_title('Predicted Profit vs. Learning Rate (# Iterations Fixed at 1000)')"
   ]
  },
  {
   "cell_type": "code",
   "execution_count": 252,
   "metadata": {},
   "outputs": [
    {
     "data": {
      "text/plain": [
       "<matplotlib.legend.Legend at 0x115a649b0>"
      ]
     },
     "execution_count": 252,
     "metadata": {},
     "output_type": "execute_result"
    },
    {
     "data": {
      "image/png": "[encoded data removed]",
      "text/plain": [
       "<matplotlib.figure.Figure at 0x11584c710>"
      ]
     },
     "metadata": {},
     "output_type": "display_data"
    }
   ],
   "source": [
    "# How the w0 and w1 values change as the learning rate increases\n",
    "fig, ax = plt.subplots(figsize=(8,5))\n",
    "ax.plot(eta0_values, w0_values, 'g', label=\"w0\")\n",
    "ax.plot(eta0_values, w1_values, 'y', label=\"w1\")\n",
    "ax.set_xlabel('Learning Rate')\n",
    "ax.set_ylabel('Parameter Values')\n",
    "ax.set_title('Parameter Values vs. Learning Rate (# Iterations Fixed at 1000)')\n",
    "ax.legend()"
   ]
  },
  {
   "cell_type": "markdown",
   "metadata": {},
   "source": [
    "### Profit versus Number of Iterations (Learning Rate is Fixed)"
   ]
  },
  {
   "cell_type": "code",
   "execution_count": 253,
   "metadata": {
    "collapsed": true
   },
   "outputs": [],
   "source": [
    "iter_values = [1, 10, 50, 100, 250, 500, 1000]\n",
    "results = [get_results(X, y, 0.0001 , iter_val) for iter_val in iter_values]"
   ]
  },
  {
   "cell_type": "code",
   "execution_count": 254,
   "metadata": {
    "collapsed": true
   },
   "outputs": [],
   "source": [
    "# Get the w0, w1, and profit values\n",
    "w0_values = [results[i][0][0] for i in range(len(results))]\n",
    "w1_values = [results[i][0][1] for i in range(len(results))]\n",
    "profit_values = [results[i][1] for i in range(len(results))]"
   ]
  },
  {
   "cell_type": "code",
   "execution_count": 255,
   "metadata": {},
   "outputs": [
    {
     "data": {
      "text/plain": [
       "<matplotlib.text.Text at 0x115ae5c88>"
      ]
     },
     "execution_count": 255,
     "metadata": {},
     "output_type": "execute_result"
    },
    {
     "data": {
      "image/png": "[encoded data removed]",
      "text/plain": [
       "<matplotlib.figure.Figure at 0x115aa7f98>"
      ]
     },
     "metadata": {},
     "output_type": "display_data"
    }
   ],
   "source": [
    "# How the profit changes as the num of iterations increase\n",
    "# More iterations are always better (up to a point)\n",
    "fig, ax = plt.subplots(figsize=(8,5))\n",
    "ax.plot(iter_values, profit_values, 'g')\n",
    "ax.set_xlabel('Number of Iterations')\n",
    "ax.set_ylabel('Profit')\n",
    "ax.set_title('Predicted Profit vs. Number of Iterations (Learning Rate Fixed at 0.0001)')"
   ]
  },
  {
   "cell_type": "code",
   "execution_count": 256,
   "metadata": {},
   "outputs": [
    {
     "data": {
      "text/plain": [
       "<matplotlib.legend.Legend at 0x115cec9e8>"
      ]
     },
     "execution_count": 256,
     "metadata": {},
     "output_type": "execute_result"
    },
    {
     "data": {
      "image/png": "[encoded data removed]",
      "text/plain": [
       "<matplotlib.figure.Figure at 0x115bdb240>"
      ]
     },
     "metadata": {},
     "output_type": "display_data"
    }
   ],
   "source": [
    "# How the w0 and w1 values change as the number of iterations increase\n",
    "fig, ax = plt.subplots(figsize=(8,5))\n",
    "ax.plot(iter_values, w0_values, 'g', label=\"w0\")\n",
    "ax.plot(iter_values, w1_values, 'y', label=\"w1\")\n",
    "ax.set_xlabel('Number of Iterations')\n",
    "ax.set_ylabel('Parameter Values')\n",
    "ax.set_title('Parameter Values vs. Number of Iterations (Learning Rate Fixed at 0.0001)')\n",
    "ax.legend()"
   ]
  },
  {
   "cell_type": "markdown",
   "metadata": {},
   "source": [
    "## Regression with Multiple Features"
   ]
  },
  {
   "cell_type": "code",
   "execution_count": 257,
   "metadata": {},
   "outputs": [
    {
     "data": {
      "text/html": [
       "<div>\n",
       "<style>\n",
       "    .dataframe thead tr:only-child th {\n",
       "        text-align: right;\n",
       "    }\n",
       "\n",
       "    .dataframe thead th {\n",
       "        text-align: left;\n",
       "    }\n",
       "\n",
       "    .dataframe tbody tr th {\n",
       "        vertical-align: top;\n",
       "    }\n",
       "</style>\n",
       "<table border=\"1\" class=\"dataframe\">\n",
       "  <thead>\n",
       "    <tr style=\"text-align: right;\">\n",
       "      <th></th>\n",
       "      <th>Size</th>\n",
       "      <th>Bedrooms</th>\n",
       "      <th>Price</th>\n",
       "    </tr>\n",
       "  </thead>\n",
       "  <tbody>\n",
       "    <tr>\n",
       "      <th>0</th>\n",
       "      <td>2104</td>\n",
       "      <td>3</td>\n",
       "      <td>399900</td>\n",
       "    </tr>\n",
       "    <tr>\n",
       "      <th>1</th>\n",
       "      <td>1600</td>\n",
       "      <td>3</td>\n",
       "      <td>329900</td>\n",
       "    </tr>\n",
       "    <tr>\n",
       "      <th>2</th>\n",
       "      <td>2400</td>\n",
       "      <td>3</td>\n",
       "      <td>369000</td>\n",
       "    </tr>\n",
       "    <tr>\n",
       "      <th>3</th>\n",
       "      <td>1416</td>\n",
       "      <td>2</td>\n",
       "      <td>232000</td>\n",
       "    </tr>\n",
       "    <tr>\n",
       "      <th>4</th>\n",
       "      <td>3000</td>\n",
       "      <td>4</td>\n",
       "      <td>539900</td>\n",
       "    </tr>\n",
       "  </tbody>\n",
       "</table>\n",
       "</div>"
      ],
      "text/plain": [
       "   Size  Bedrooms   Price\n",
       "0  2104         3  399900\n",
       "1  1600         3  329900\n",
       "2  2400         3  369000\n",
       "3  1416         2  232000\n",
       "4  3000         4  539900"
      ]
     },
     "execution_count": 257,
     "metadata": {},
     "output_type": "execute_result"
    }
   ],
   "source": [
    "# Load the housing prices dataset\n",
    "file_url = data_dir_root + os.sep + \"Data\" + os.sep + \"portland-house-prices.txt\"\n",
    "# Load the data into a dataframe\n",
    "data2 = pd.read_csv(file_url, header=None, names=['Size', 'Bedrooms', 'Price'])\n",
    "data2.head()"
   ]
  },
  {
   "cell_type": "code",
   "execution_count": 258,
   "metadata": {},
   "outputs": [
    {
     "data": {
      "text/plain": [
       "((47, 2), (47, 1))"
      ]
     },
     "execution_count": 258,
     "metadata": {},
     "output_type": "execute_result"
    }
   ],
   "source": [
    "X = data2.iloc[:,0:2]\n",
    "y = data2.iloc[:, 2:]\n",
    "X.shape, y.shape"
   ]
  },
  {
   "cell_type": "code",
   "execution_count": 259,
   "metadata": {},
   "outputs": [
    {
     "data": {
      "text/plain": [
       "LinearRegression(copy_X=True, fit_intercept=True, n_jobs=1, normalize=False)"
      ]
     },
     "execution_count": 259,
     "metadata": {},
     "output_type": "execute_result"
    }
   ],
   "source": [
    "lin_reg_m = LinearRegression()\n",
    "lin_reg_m.fit(X,y)"
   ]
  },
  {
   "cell_type": "code",
   "execution_count": 267,
   "metadata": {},
   "outputs": [
    {
     "data": {
      "text/plain": [
       "array([[  139.21067402, -8738.01911233]])"
      ]
     },
     "execution_count": 267,
     "metadata": {},
     "output_type": "execute_result"
    }
   ],
   "source": [
    "# Get the optimal values of the parameters\n",
    "w0 = lin_reg_m.intercept_\n",
    "lin_reg_m.coef_"
   ]
  },
  {
   "cell_type": "code",
   "execution_count": 261,
   "metadata": {},
   "outputs": [
    {
     "name": "stdout",
     "output_type": "stream",
     "text": [
      "['$356,283', '$286,121', '$397,489', '$269,244', '$472,278']\n"
     ]
    }
   ],
   "source": [
    "# Make some predictions\n",
    "prices = lin_reg_m.predict(X[0:5])\n",
    "print(['${:5,.0f}'.format(price) for price in prices.flatten()])"
   ]
  },
  {
   "cell_type": "code",
   "execution_count": 262,
   "metadata": {},
   "outputs": [
    {
     "data": {
      "text/plain": [
       "array([[ 356283.1103389 ],\n",
       "       [ 286120.93063401],\n",
       "       [ 397489.46984812],\n",
       "       [ 269244.1857271 ],\n",
       "       [ 472277.85514636]])"
      ]
     },
     "execution_count": 262,
     "metadata": {},
     "output_type": "execute_result"
    }
   ],
   "source": [
    "prices"
   ]
  },
  {
   "cell_type": "code",
   "execution_count": 263,
   "metadata": {},
   "outputs": [
    {
     "data": {
      "text/plain": [
       "{'copy_X': True, 'fit_intercept': True, 'n_jobs': 1, 'normalize': False}"
      ]
     },
     "execution_count": 263,
     "metadata": {},
     "output_type": "execute_result"
    }
   ],
   "source": [
    "lin_reg_m.get_params()"
   ]
  },
  {
   "cell_type": "code",
   "execution_count": 264,
   "metadata": {},
   "outputs": [
    {
     "data": {
      "text/plain": [
       "0.73294501802891432"
      ]
     },
     "execution_count": 264,
     "metadata": {},
     "output_type": "execute_result"
    }
   ],
   "source": [
    "lin_reg_m.score(X,y)"
   ]
  },
  {
   "cell_type": "markdown",
   "metadata": {},
   "source": [
    "### TO DO - Implement the SGDRegressor for the housing prices dataset"
   ]
  },
  {
   "cell_type": "markdown",
   "metadata": {
    "collapsed": true
   },
   "source": [
    "## Summary and Looking Ahead\n",
    "\n",
    "1. Hyperparameter settings such as the learning rate and the number of iterations control and influence how a learning algorithm arrives at its results.\n",
    "\n",
    "2. Machine learning models depend on these learning algorithms. Therefore, the predictions of machine learning models depend on the particular choices made for the hyperparameter values. As we've seen, model predictions are sensitive to these settings.\n",
    "\n",
    "3. So what are the right settings? It would be those settings that result in the best model.\n",
    "\n",
    "4. What's the best model? It's the one with the best performance.\n",
    "\n",
    "5. So how do we define the performance of a model and how do we measure it? That's what we'll turn to next."
   ]
  },
  {
   "cell_type": "code",
   "execution_count": null,
   "metadata": {
    "collapsed": true
   },
   "outputs": [],
   "source": []
  }
 ],
 "metadata": {
  "kernelspec": {
   "display_name": "Python 3",
   "language": "python",
   "name": "python3"
  },
  "language_info": {
   "codemirror_mode": {
    "name": "ipython",
    "version": 3
   },
   "file_extension": ".py",
   "mimetype": "text/x-python",
   "name": "python",
   "nbconvert_exporter": "python",
   "pygments_lexer": "ipython3",
   "version": "3.6.2"
  }
 },
 "nbformat": 4,
 "nbformat_minor": 2
}
