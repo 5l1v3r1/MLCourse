{
 "cells": [
  {
   "cell_type": "markdown",
   "metadata": {},
   "source": [
    "# Exploring a Telecom Customer Churn Dataset"
   ]
  },
  {
   "cell_type": "markdown",
   "metadata": {},
   "source": [
    "## Introduction"
   ]
  },
  {
   "cell_type": "markdown",
   "metadata": {},
   "source": [
    "In this notebook we'll explore a dataset containing information about a telecom company's customers. It comes from an [IBM Watson repository](https://www.ibm.com/communities/analytics/watson-analytics-blog/predictive-insights-in-the-telco-customer-churn-data-set/).\n",
    "\n",
    "We'll use this dataset througout the course to illustrate a variety of machine learning techiniques. We've chosen this dataset because it is complicated enough to teach us things but not so complicated that it sidetracks us. It also gives us an opportunity to reason about a type of business problem that many of you will encounter (if you haven't already).\n",
    "\n",
    "The dataset comes to us in the form of an Excel file. The name of the file is \"WA_FN-UseC_-Telcom-Customer-Churn.xlsx\". It's quite a cumbersome name, but we'll stick with it so we'll always know where it came from (you can quickly google the name in a pinch). And in general datasets come to us with various names and it's better to get to used to that right from the start.\n",
    "\n",
    "We get data in two ways -- by creating it or by getting it from somewhere else. Once we get data, data scientists spend a surprising amount of time getting their heads wrapped around the data, cleaning it, and preparing it to be analyzed. We'll illustrate the main steps of this process here.\n",
    "\n",
    "The objective of this notebook is to provide a template for data exploration -- the first and perhaps most critical step in any kind of data analysis project including machine learning."
   ]
  },
  {
   "cell_type": "markdown",
   "metadata": {},
   "source": [
    "## Load the Data"
   ]
  },
  {
   "cell_type": "markdown",
   "metadata": {},
   "source": [
    "First thing to do is to load up the data. This depends on the source of the input file -- it could come from a file on the local computer system or from a remote location like an Amazon AWS S3 bucket. For us, the file is already stored locally in the Data folder.\n",
    "\n",
    "**NOTE:** We'll use some standard Python packages to load, manipulate, and visualize the data. These packages are tools that make our lives as data scientists a lot easier and less tedious. Packages are loaded using the \"import\" keyword or the \"from A import B\" or the \"from A import B as C\" locutions."
   ]
  },
  {
   "cell_type": "code",
   "execution_count": 1,
   "metadata": {},
   "outputs": [
    {
     "data": {
      "text/plain": [
       "'/Users/jsubapple/Documents/Dropbox/Repos/MLCourse/Data/WA_Fn-UseC_-Telco-Customer-Churn.xlsx'"
      ]
     },
     "execution_count": 1,
     "metadata": {},
     "output_type": "execute_result"
    }
   ],
   "source": [
    "import os # to navigate the file system\n",
    "import numpy as np # for number crunching\n",
    "import pandas as pd # for data loading and manipulation\n",
    "\n",
    "# OS-independent way to navigate the file system\n",
    "# One directory up in relation to directory of this notebook\n",
    "new_dir = os.path.normpath(os.getcwd() + os.sep + os.pardir)\n",
    "# Where the file is\n",
    "file_url = new_dir + os.sep + \"Data\" + os.sep + \"WA_Fn-UseC_-Telco-Customer-Churn.xlsx\"\n",
    "file_url"
   ]
  },
  {
   "cell_type": "code",
   "execution_count": 2,
   "metadata": {
    "collapsed": true
   },
   "outputs": [],
   "source": [
    "# Read the excel sheet into a pandas dataframe\n",
    "df_churn = pd.read_excel(file_url, sheetname=0)"
   ]
  },
  {
   "cell_type": "code",
   "execution_count": 3,
   "metadata": {},
   "outputs": [
    {
     "data": {
      "text/html": [
       "<div>\n",
       "<style>\n",
       "    .dataframe thead tr:only-child th {\n",
       "        text-align: right;\n",
       "    }\n",
       "\n",
       "    .dataframe thead th {\n",
       "        text-align: left;\n",
       "    }\n",
       "\n",
       "    .dataframe tbody tr th {\n",
       "        vertical-align: top;\n",
       "    }\n",
       "</style>\n",
       "<table border=\"1\" class=\"dataframe\">\n",
       "  <thead>\n",
       "    <tr style=\"text-align: right;\">\n",
       "      <th></th>\n",
       "      <th>customerID</th>\n",
       "      <th>gender</th>\n",
       "      <th>SeniorCitizen</th>\n",
       "      <th>Partner</th>\n",
       "      <th>Dependents</th>\n",
       "      <th>tenure</th>\n",
       "      <th>PhoneService</th>\n",
       "      <th>MultipleLines</th>\n",
       "      <th>InternetService</th>\n",
       "      <th>OnlineSecurity</th>\n",
       "      <th>...</th>\n",
       "      <th>DeviceProtection</th>\n",
       "      <th>TechSupport</th>\n",
       "      <th>StreamingTV</th>\n",
       "      <th>StreamingMovies</th>\n",
       "      <th>Contract</th>\n",
       "      <th>PaperlessBilling</th>\n",
       "      <th>PaymentMethod</th>\n",
       "      <th>MonthlyCharges</th>\n",
       "      <th>TotalCharges</th>\n",
       "      <th>Churn</th>\n",
       "    </tr>\n",
       "  </thead>\n",
       "  <tbody>\n",
       "    <tr>\n",
       "      <th>0</th>\n",
       "      <td>7590-VHVEG</td>\n",
       "      <td>Female</td>\n",
       "      <td>0</td>\n",
       "      <td>Yes</td>\n",
       "      <td>No</td>\n",
       "      <td>1</td>\n",
       "      <td>No</td>\n",
       "      <td>No phone service</td>\n",
       "      <td>DSL</td>\n",
       "      <td>No</td>\n",
       "      <td>...</td>\n",
       "      <td>No</td>\n",
       "      <td>No</td>\n",
       "      <td>No</td>\n",
       "      <td>No</td>\n",
       "      <td>Month-to-month</td>\n",
       "      <td>Yes</td>\n",
       "      <td>Electronic check</td>\n",
       "      <td>29.85</td>\n",
       "      <td>29.85</td>\n",
       "      <td>No</td>\n",
       "    </tr>\n",
       "    <tr>\n",
       "      <th>1</th>\n",
       "      <td>5575-GNVDE</td>\n",
       "      <td>Male</td>\n",
       "      <td>0</td>\n",
       "      <td>No</td>\n",
       "      <td>No</td>\n",
       "      <td>34</td>\n",
       "      <td>Yes</td>\n",
       "      <td>No</td>\n",
       "      <td>DSL</td>\n",
       "      <td>Yes</td>\n",
       "      <td>...</td>\n",
       "      <td>Yes</td>\n",
       "      <td>No</td>\n",
       "      <td>No</td>\n",
       "      <td>No</td>\n",
       "      <td>One year</td>\n",
       "      <td>No</td>\n",
       "      <td>Mailed check</td>\n",
       "      <td>56.95</td>\n",
       "      <td>1889.5</td>\n",
       "      <td>No</td>\n",
       "    </tr>\n",
       "    <tr>\n",
       "      <th>2</th>\n",
       "      <td>3668-QPYBK</td>\n",
       "      <td>Male</td>\n",
       "      <td>0</td>\n",
       "      <td>No</td>\n",
       "      <td>No</td>\n",
       "      <td>2</td>\n",
       "      <td>Yes</td>\n",
       "      <td>No</td>\n",
       "      <td>DSL</td>\n",
       "      <td>Yes</td>\n",
       "      <td>...</td>\n",
       "      <td>No</td>\n",
       "      <td>No</td>\n",
       "      <td>No</td>\n",
       "      <td>No</td>\n",
       "      <td>Month-to-month</td>\n",
       "      <td>Yes</td>\n",
       "      <td>Mailed check</td>\n",
       "      <td>53.85</td>\n",
       "      <td>108.15</td>\n",
       "      <td>Yes</td>\n",
       "    </tr>\n",
       "    <tr>\n",
       "      <th>3</th>\n",
       "      <td>7795-CFOCW</td>\n",
       "      <td>Male</td>\n",
       "      <td>0</td>\n",
       "      <td>No</td>\n",
       "      <td>No</td>\n",
       "      <td>45</td>\n",
       "      <td>No</td>\n",
       "      <td>No phone service</td>\n",
       "      <td>DSL</td>\n",
       "      <td>Yes</td>\n",
       "      <td>...</td>\n",
       "      <td>Yes</td>\n",
       "      <td>Yes</td>\n",
       "      <td>No</td>\n",
       "      <td>No</td>\n",
       "      <td>One year</td>\n",
       "      <td>No</td>\n",
       "      <td>Bank transfer (automatic)</td>\n",
       "      <td>42.30</td>\n",
       "      <td>1840.75</td>\n",
       "      <td>No</td>\n",
       "    </tr>\n",
       "    <tr>\n",
       "      <th>4</th>\n",
       "      <td>9237-HQITU</td>\n",
       "      <td>Female</td>\n",
       "      <td>0</td>\n",
       "      <td>No</td>\n",
       "      <td>No</td>\n",
       "      <td>2</td>\n",
       "      <td>Yes</td>\n",
       "      <td>No</td>\n",
       "      <td>Fiber optic</td>\n",
       "      <td>No</td>\n",
       "      <td>...</td>\n",
       "      <td>No</td>\n",
       "      <td>No</td>\n",
       "      <td>No</td>\n",
       "      <td>No</td>\n",
       "      <td>Month-to-month</td>\n",
       "      <td>Yes</td>\n",
       "      <td>Electronic check</td>\n",
       "      <td>70.70</td>\n",
       "      <td>151.65</td>\n",
       "      <td>Yes</td>\n",
       "    </tr>\n",
       "  </tbody>\n",
       "</table>\n",
       "<p>5 rows × 21 columns</p>\n",
       "</div>"
      ],
      "text/plain": [
       "   customerID  gender  SeniorCitizen Partner Dependents  tenure PhoneService  \\\n",
       "0  7590-VHVEG  Female              0     Yes         No       1           No   \n",
       "1  5575-GNVDE    Male              0      No         No      34          Yes   \n",
       "2  3668-QPYBK    Male              0      No         No       2          Yes   \n",
       "3  7795-CFOCW    Male              0      No         No      45           No   \n",
       "4  9237-HQITU  Female              0      No         No       2          Yes   \n",
       "\n",
       "      MultipleLines InternetService OnlineSecurity  ...  DeviceProtection  \\\n",
       "0  No phone service             DSL             No  ...                No   \n",
       "1                No             DSL            Yes  ...               Yes   \n",
       "2                No             DSL            Yes  ...                No   \n",
       "3  No phone service             DSL            Yes  ...               Yes   \n",
       "4                No     Fiber optic             No  ...                No   \n",
       "\n",
       "  TechSupport StreamingTV StreamingMovies        Contract PaperlessBilling  \\\n",
       "0          No          No              No  Month-to-month              Yes   \n",
       "1          No          No              No        One year               No   \n",
       "2          No          No              No  Month-to-month              Yes   \n",
       "3         Yes          No              No        One year               No   \n",
       "4          No          No              No  Month-to-month              Yes   \n",
       "\n",
       "               PaymentMethod MonthlyCharges  TotalCharges Churn  \n",
       "0           Electronic check          29.85         29.85    No  \n",
       "1               Mailed check          56.95        1889.5    No  \n",
       "2               Mailed check          53.85        108.15   Yes  \n",
       "3  Bank transfer (automatic)          42.30       1840.75    No  \n",
       "4           Electronic check          70.70        151.65   Yes  \n",
       "\n",
       "[5 rows x 21 columns]"
      ]
     },
     "execution_count": 3,
     "metadata": {},
     "output_type": "execute_result"
    }
   ],
   "source": [
    "# Look at the first few lines of the data -- scroll to the right to see more columns\n",
    "df_churn.head()"
   ]
  },
  {
   "cell_type": "markdown",
   "metadata": {},
   "source": [
    "How many rows (# of customers) and how many columns (# attritbutes of each customer) do we have?"
   ]
  },
  {
   "cell_type": "code",
   "execution_count": 4,
   "metadata": {},
   "outputs": [
    {
     "data": {
      "text/plain": [
       "(7043, 21)"
      ]
     },
     "execution_count": 4,
     "metadata": {},
     "output_type": "execute_result"
    }
   ],
   "source": [
    "num_rows, num_cols = df_churn.shape\n",
    "num_rows, num_cols"
   ]
  },
  {
   "cell_type": "markdown",
   "metadata": {},
   "source": [
    "This meams we have 7,043 customers with each customer tagged with 21 individual attributes such as customerID, gender, SeniorCitizen, etc. Let's get a complete list of the attributes."
   ]
  },
  {
   "cell_type": "markdown",
   "metadata": {},
   "source": [
    "## An Overview of Customer Features (or Attributes)"
   ]
  },
  {
   "cell_type": "markdown",
   "metadata": {},
   "source": [
    "Here is a complete list of features (also known as attributes) that describe each of the 7,043 customers. We don't know yet if all customers are tagged with all 21 features -- we'll find out soon."
   ]
  },
  {
   "cell_type": "code",
   "execution_count": 5,
   "metadata": {},
   "outputs": [
    {
     "data": {
      "text/plain": [
       "[('customerID',\n",
       "  ['7590-VHVEG', '5575-GNVDE', '3668-QPYBK', '7795-CFOCW', '9237-HQITU']),\n",
       " ('gender', ['Female', 'Male', 'Male', 'Male', 'Female']),\n",
       " ('SeniorCitizen', [0, 0, 0, 0, 0]),\n",
       " ('Partner', ['Yes', 'No', 'No', 'No', 'No']),\n",
       " ('Dependents', ['No', 'No', 'No', 'No', 'No']),\n",
       " ('tenure', [1, 34, 2, 45, 2]),\n",
       " ('PhoneService', ['No', 'Yes', 'Yes', 'No', 'Yes']),\n",
       " ('MultipleLines', ['No phone service', 'No', 'No', 'No phone service', 'No']),\n",
       " ('InternetService', ['DSL', 'DSL', 'DSL', 'DSL', 'Fiber optic']),\n",
       " ('OnlineSecurity', ['No', 'Yes', 'Yes', 'Yes', 'No']),\n",
       " ('OnlineBackup', ['Yes', 'No', 'Yes', 'No', 'No']),\n",
       " ('DeviceProtection', ['No', 'Yes', 'No', 'Yes', 'No']),\n",
       " ('TechSupport', ['No', 'No', 'No', 'Yes', 'No']),\n",
       " ('StreamingTV', ['No', 'No', 'No', 'No', 'No']),\n",
       " ('StreamingMovies', ['No', 'No', 'No', 'No', 'No']),\n",
       " ('Contract',\n",
       "  ['Month-to-month',\n",
       "   'One year',\n",
       "   'Month-to-month',\n",
       "   'One year',\n",
       "   'Month-to-month']),\n",
       " ('PaperlessBilling', ['Yes', 'No', 'Yes', 'No', 'Yes']),\n",
       " ('PaymentMethod',\n",
       "  ['Electronic check',\n",
       "   'Mailed check',\n",
       "   'Mailed check',\n",
       "   'Bank transfer (automatic)',\n",
       "   'Electronic check']),\n",
       " ('MonthlyCharges',\n",
       "  [29.850000000000001,\n",
       "   56.950000000000003,\n",
       "   53.850000000000001,\n",
       "   42.299999999999997,\n",
       "   70.700000000000003]),\n",
       " ('TotalCharges', [29.85, 1889.5, 108.15, 1840.75, 151.65]),\n",
       " ('Churn', ['No', 'No', 'Yes', 'No', 'Yes'])]"
      ]
     },
     "execution_count": 5,
     "metadata": {},
     "output_type": "execute_result"
    }
   ],
   "source": [
    "# Here is a list of the features with the first 5 values of each feature.\n",
    "feature_list = list(df_churn)\n",
    "# First 5 values of each feature in the list\n",
    "first_5 = [list(df_churn[attribute][0:5]) for attribute in feature_list]\n",
    "list(zip(feature_list, first_5))"
   ]
  },
  {
   "cell_type": "markdown",
   "metadata": {},
   "source": [
    "Some of the features have a discrete set of possible values (e.g., gender, PaymentMethod) while some others can take a range of values that need not be discrete (e.g., tenure, MonthlyCharges, TotalCharges)."
   ]
  },
  {
   "cell_type": "markdown",
   "metadata": {},
   "source": [
    "### Categorical Feature and Their Possible Values\n",
    "Some of the features in our dataset are *categorical* -- their values come from a small handful of discrete possibilities. Features like gender and payment method fit are categorical. Categorical features are also known as *discrete* features. Let's separate the discrete/categorical features from the rest -- we'll get a better grip if we look at them separately first."
   ]
  },
  {
   "cell_type": "code",
   "execution_count": 206,
   "metadata": {},
   "outputs": [
    {
     "data": {
      "text/plain": [
       "[['gender', ['Female', 'Male']],\n",
       " ['SeniorCitizen', [0, 1]],\n",
       " ['Partner', ['Yes', 'No']],\n",
       " ['Dependents', ['No', 'Yes']],\n",
       " ['PhoneService', ['No', 'Yes']],\n",
       " ['MultipleLines', ['No phone service', 'No', 'Yes']],\n",
       " ['InternetService', ['DSL', 'Fiber optic', 'No']],\n",
       " ['OnlineSecurity', ['No', 'Yes', 'No internet service']],\n",
       " ['OnlineBackup', ['Yes', 'No', 'No internet service']],\n",
       " ['DeviceProtection', ['No', 'Yes', 'No internet service']],\n",
       " ['TechSupport', ['No', 'Yes', 'No internet service']],\n",
       " ['StreamingTV', ['No', 'Yes', 'No internet service']],\n",
       " ['StreamingMovies', ['No', 'Yes', 'No internet service']],\n",
       " ['Contract', ['Month-to-month', 'One year', 'Two year']],\n",
       " ['PaperlessBilling', ['Yes', 'No']],\n",
       " ['PaymentMethod',\n",
       "  ['Electronic check',\n",
       "   'Mailed check',\n",
       "   'Bank transfer (automatic)',\n",
       "   'Credit card (automatic)']],\n",
       " ['Churn', ['No', 'Yes']]]"
      ]
     },
     "execution_count": 206,
     "metadata": {},
     "output_type": "execute_result"
    }
   ],
   "source": [
    "# Feature index numbers that are *not* categorical.\n",
    "# Just count from the dataset starting at customerID's index = 0\n",
    "not_categorical = [0,5,18,19] # CustomerID is not a feature but a unique identifier\n",
    "# the categorical features are then the complement of the above list\n",
    "categorical = list(set(range(df_churn.shape[1])) - set(not_categorical))\n",
    "# get the unique values of the categorical features\n",
    "[[feature_list[feature_index], list(df_churn.iloc[:, feature_index].unique())] \\\n",
    "    for feature_index in categorical]"
   ]
  },
  {
   "cell_type": "markdown",
   "metadata": {},
   "source": [
    "### Numerical Features"
   ]
  },
  {
   "cell_type": "markdown",
   "metadata": {},
   "source": [
    "Three of the features in this dataset are numerical:\n",
    "- tenure\n",
    "- MonthlyCharges\n",
    "- TotalCharges\n",
    "\n",
    "Let's explore this dataset in a systematic way. "
   ]
  },
  {
   "cell_type": "code",
   "execution_count": 241,
   "metadata": {},
   "outputs": [
    {
     "data": {
      "text/plain": [
       "['tenure', 'MonthlyCharges', 'TotalCharges']"
      ]
     },
     "execution_count": 241,
     "metadata": {},
     "output_type": "execute_result"
    }
   ],
   "source": [
    "numeric_features = [feature_list[n] for n in not_categorical][1:] # CustomerID is not a numeric feature\n",
    "numeric_features"
   ]
  },
  {
   "cell_type": "markdown",
   "metadata": {},
   "source": [
    "## Sytematically Exploring the Data\n",
    "\n",
    "Here are ways to systematically explore the data, to live it, to feel it and to breathe it in. The time you spend doing this will pay off. It will enable you to make the right decisions about how to learn from this data."
   ]
  },
  {
   "cell_type": "markdown",
   "metadata": {
    "collapsed": true
   },
   "source": [
    "### Missing Values"
   ]
  },
  {
   "cell_type": "code",
   "execution_count": 11,
   "metadata": {},
   "outputs": [
    {
     "data": {
      "text/plain": [
       "customerID          0\n",
       "gender              0\n",
       "SeniorCitizen       0\n",
       "Partner             0\n",
       "Dependents          0\n",
       "tenure              0\n",
       "PhoneService        0\n",
       "MultipleLines       0\n",
       "InternetService     0\n",
       "OnlineSecurity      0\n",
       "OnlineBackup        0\n",
       "DeviceProtection    0\n",
       "TechSupport         0\n",
       "StreamingTV         0\n",
       "StreamingMovies     0\n",
       "Contract            0\n",
       "PaperlessBilling    0\n",
       "PaymentMethod       0\n",
       "MonthlyCharges      0\n",
       "TotalCharges        0\n",
       "Churn               0\n",
       "dtype: int64"
      ]
     },
     "execution_count": 11,
     "metadata": {},
     "output_type": "execute_result"
    }
   ],
   "source": [
    "# For each column in the dataset, add up the rows in which the column data is missing\n",
    "df_churn.isnull().sum()"
   ]
  },
  {
   "cell_type": "markdown",
   "metadata": {},
   "source": [
    "The zeros mean there are no missing data values. This is very nice, but unusual in most datasets, so we've lucked out. When there are missing values it takes effort and judgement to decide how to handle them. Sometimes it's not clear how to handle missing data even though there are a number of standard techniques to choose from.\n",
    "\n",
    "One thing to watch out for is a value that seems to be missing, except that it really is an empty string like '' or a string with some spaces such as '   '. These usually trip up the plotting functions and that's one (stressful) way to identify them. "
   ]
  },
  {
   "cell_type": "code",
   "execution_count": 238,
   "metadata": {},
   "outputs": [],
   "source": [
    "# For each of the features, find rows where they might be empty -- we'll have to handle these appropriately\n",
    "def isEmpty(feature):\n",
    "    empty_rows = []\n",
    "    for i in range(len(df_churn)):\n",
    "        if isinstance(df_churn[feature][i], str):\n",
    "            empty_rows.append(i)\n",
    "    \n",
    "    return empty_rows"
   ]
  },
  {
   "cell_type": "code",
   "execution_count": 243,
   "metadata": {},
   "outputs": [
    {
     "data": {
      "text/plain": [
       "[['tenure', []],\n",
       " ['MonthlyCharges', []],\n",
       " ['TotalCharges',\n",
       "  [488, 753, 936, 1082, 1340, 3331, 3826, 4380, 5218, 6670, 6754]]]"
      ]
     },
     "execution_count": 243,
     "metadata": {},
     "output_type": "execute_result"
    }
   ],
   "source": [
    "[[feature,isEmpty(feature)] for feature in numeric_features]"
   ]
  },
  {
   "cell_type": "markdown",
   "metadata": {},
   "source": [
    "We'll take a look at the rows in TotalCharges to see what to do with these rows. "
   ]
  },
  {
   "cell_type": "code",
   "execution_count": null,
   "metadata": {
    "collapsed": true
   },
   "outputs": [],
   "source": [
    "# Test for numeric or empty values in the the categorical rows."
   ]
  },
  {
   "cell_type": "markdown",
   "metadata": {},
   "source": [
    "### Views"
   ]
  },
  {
   "cell_type": "code",
   "execution_count": null,
   "metadata": {
    "collapsed": true
   },
   "outputs": [],
   "source": []
  },
  {
   "cell_type": "code",
   "execution_count": 197,
   "metadata": {
    "collapsed": true
   },
   "outputs": [],
   "source": [
    "# View a selection of rows and columns in the df_churn dataframe\n",
    "df_map = {'telco churn data': df_churn}\n",
    "def table_view(data_frame_name, feature_list, start_row=3, end_row=5):\n",
    "    '''\n",
    "    Displays selected columns and rows of a data frame.\n",
    "    '''\n",
    "    # Verify the inputs are sane\n",
    "    # get the size of the dataframe\n",
    "    num_rows, num_cols = df_map[data_frame_name].shape\n",
    "    if (start_row < 0) | (start_row > num_rows) :\n",
    "        return print(\"Please use a valid Start Row number. It can be any number from 0 to {}\".format(num_rows))\n",
    "    if (end_row < 0) | (end_row > num_rows) | (end_row < start_row + 1):\n",
    "        return print(\"Please use a valid End Row number. \\\n",
    "                     It can be any number from 0 to {} \\\n",
    "                     and must be greater than your start row number\".format(num_rows)) \n",
    "    \n",
    "    view = df_map[data_frame_name][feature_list].iloc[start_row:end_row]\n",
    "    \n",
    "    return view"
   ]
  },
  {
   "cell_type": "code",
   "execution_count": 8,
   "metadata": {},
   "outputs": [
    {
     "data": {
      "text/html": [
       "<div>\n",
       "<style>\n",
       "    .dataframe thead tr:only-child th {\n",
       "        text-align: right;\n",
       "    }\n",
       "\n",
       "    .dataframe thead th {\n",
       "        text-align: left;\n",
       "    }\n",
       "\n",
       "    .dataframe tbody tr th {\n",
       "        vertical-align: top;\n",
       "    }\n",
       "</style>\n",
       "<table border=\"1\" class=\"dataframe\">\n",
       "  <thead>\n",
       "    <tr style=\"text-align: right;\">\n",
       "      <th></th>\n",
       "      <th>tenure</th>\n",
       "      <th>SeniorCitizen</th>\n",
       "      <th>MonthlyCharges</th>\n",
       "      <th>TotalCharges</th>\n",
       "    </tr>\n",
       "  </thead>\n",
       "  <tbody>\n",
       "    <tr>\n",
       "      <th>100</th>\n",
       "      <td>1</td>\n",
       "      <td>0</td>\n",
       "      <td>20.20</td>\n",
       "      <td>20.2</td>\n",
       "    </tr>\n",
       "    <tr>\n",
       "      <th>101</th>\n",
       "      <td>1</td>\n",
       "      <td>0</td>\n",
       "      <td>19.45</td>\n",
       "      <td>19.45</td>\n",
       "    </tr>\n",
       "    <tr>\n",
       "      <th>102</th>\n",
       "      <td>38</td>\n",
       "      <td>0</td>\n",
       "      <td>95.00</td>\n",
       "      <td>3605.6</td>\n",
       "    </tr>\n",
       "    <tr>\n",
       "      <th>103</th>\n",
       "      <td>66</td>\n",
       "      <td>1</td>\n",
       "      <td>45.55</td>\n",
       "      <td>3027.25</td>\n",
       "    </tr>\n",
       "    <tr>\n",
       "      <th>104</th>\n",
       "      <td>68</td>\n",
       "      <td>0</td>\n",
       "      <td>110.00</td>\n",
       "      <td>7611.85</td>\n",
       "    </tr>\n",
       "    <tr>\n",
       "      <th>105</th>\n",
       "      <td>5</td>\n",
       "      <td>0</td>\n",
       "      <td>24.30</td>\n",
       "      <td>100.2</td>\n",
       "    </tr>\n",
       "    <tr>\n",
       "      <th>106</th>\n",
       "      <td>72</td>\n",
       "      <td>0</td>\n",
       "      <td>104.15</td>\n",
       "      <td>7303.05</td>\n",
       "    </tr>\n",
       "    <tr>\n",
       "      <th>107</th>\n",
       "      <td>32</td>\n",
       "      <td>0</td>\n",
       "      <td>30.15</td>\n",
       "      <td>927.65</td>\n",
       "    </tr>\n",
       "    <tr>\n",
       "      <th>108</th>\n",
       "      <td>43</td>\n",
       "      <td>0</td>\n",
       "      <td>94.35</td>\n",
       "      <td>3921.3</td>\n",
       "    </tr>\n",
       "    <tr>\n",
       "      <th>109</th>\n",
       "      <td>72</td>\n",
       "      <td>0</td>\n",
       "      <td>19.40</td>\n",
       "      <td>1363.25</td>\n",
       "    </tr>\n",
       "    <tr>\n",
       "      <th>110</th>\n",
       "      <td>55</td>\n",
       "      <td>0</td>\n",
       "      <td>96.75</td>\n",
       "      <td>5238.9</td>\n",
       "    </tr>\n",
       "    <tr>\n",
       "      <th>111</th>\n",
       "      <td>52</td>\n",
       "      <td>0</td>\n",
       "      <td>57.95</td>\n",
       "      <td>3042.25</td>\n",
       "    </tr>\n",
       "    <tr>\n",
       "      <th>112</th>\n",
       "      <td>43</td>\n",
       "      <td>0</td>\n",
       "      <td>91.65</td>\n",
       "      <td>3954.1</td>\n",
       "    </tr>\n",
       "    <tr>\n",
       "      <th>113</th>\n",
       "      <td>37</td>\n",
       "      <td>1</td>\n",
       "      <td>76.50</td>\n",
       "      <td>2868.15</td>\n",
       "    </tr>\n",
       "  </tbody>\n",
       "</table>\n",
       "</div>"
      ],
      "text/plain": [
       "     tenure  SeniorCitizen  MonthlyCharges TotalCharges\n",
       "100       1              0           20.20         20.2\n",
       "101       1              0           19.45        19.45\n",
       "102      38              0           95.00       3605.6\n",
       "103      66              1           45.55      3027.25\n",
       "104      68              0          110.00      7611.85\n",
       "105       5              0           24.30        100.2\n",
       "106      72              0          104.15      7303.05\n",
       "107      32              0           30.15       927.65\n",
       "108      43              0           94.35       3921.3\n",
       "109      72              0           19.40      1363.25\n",
       "110      55              0           96.75       5238.9\n",
       "111      52              0           57.95      3042.25\n",
       "112      43              0           91.65       3954.1\n",
       "113      37              1           76.50      2868.15"
      ]
     },
     "execution_count": 8,
     "metadata": {},
     "output_type": "execute_result"
    }
   ],
   "source": [
    "# Using the table_view function defined above\n",
    "# We're calling our dataset 'telco churn data'\n",
    "table_view('telco churn data', ['tenure', 'SeniorCitizen', 'MonthlyCharges', 'TotalCharges'], 100, 114)"
   ]
  },
  {
   "cell_type": "code",
   "execution_count": 9,
   "metadata": {
    "collapsed": true
   },
   "outputs": [],
   "source": [
    "# We're going to explore views in an interactive way\n",
    "from __future__ import print_function\n",
    "from ipywidgets import interact, interactive, fixed, interact_manual\n",
    "import ipywidgets as widgets\n",
    "from ipywidgets import Button, HBox, VBox\n",
    "from IPython.display import display\n",
    "from IPython.display import clear_output"
   ]
  },
  {
   "cell_type": "code",
   "execution_count": 115,
   "metadata": {},
   "outputs": [],
   "source": [
    "# Layout the interactive view widgets\n",
    "\n",
    "# Data Frame Chooser Dropdown\n",
    "dataFrame = widgets.Select(\n",
    "             options=['telco churn data'],\n",
    "             value='telco churn data',\n",
    "             description='Data Source:',\n",
    "             disabled=False\n",
    "            )\n",
    "\n",
    "# Start Row Text Field\n",
    "startRow = widgets.IntText(\n",
    "            value=7,\n",
    "            description='Start Row:',\n",
    "            disabled=False\n",
    "           )\n",
    "\n",
    "# End Row Text Field\n",
    "endRow = widgets.IntText(\n",
    "           value=12,\n",
    "           description='End Row:',\n",
    "           disabled=False\n",
    "          )\n",
    "\n",
    "# Attribute Selector (Multiple Select)\n",
    "allFeatures = widgets.SelectMultiple(\n",
    "               options = feature_list,\n",
    "               rows = 20,\n",
    "               description = 'Select Mulitple Features:',\n",
    "               value = ['gender', 'SeniorCitizen', 'tenure', 'MonthlyCharges']\n",
    "              )\n",
    "\n",
    "# Button\n",
    "button = widgets.Button(\n",
    "          description='Show View',\n",
    "          disabled=False,\n",
    "          button_style='info', # 'success', 'info', 'warning', 'danger' or ''\n",
    "          tooltip='Go!',\n",
    "          icon=''\n",
    "         )\n",
    "\n",
    "def on_button_clicked(b):\n",
    "    # Pass the values of the widgets to the table_view function\n",
    "    clear_output()\n",
    "    return table_view(dataFrame.value, list(allFeatures.value), startRow.value, endRow.value)\n",
    "    \n",
    "button.on_click(on_button_clicked)\n",
    "\n",
    "# Display the elements\n",
    "HBox([VBox([dataFrame, allFeatures, button]), VBox([startRow, endRow])])"
   ]
  },
  {
   "cell_type": "markdown",
   "metadata": {},
   "source": [
    "### How Balanced are the Categorical Features?"
   ]
  },
  {
   "cell_type": "markdown",
   "metadata": {},
   "source": [
    "How are the categorical features of the dataset distributed? For example, are there very few senior citizens? Is it the case that an overwhelming number of customers in the dataset have no dependents? Understanding how the features are balanced will give us a sense of how *generalizable* the results obtained from the dataset will be."
   ]
  },
  {
   "cell_type": "code",
   "execution_count": 149,
   "metadata": {
    "collapsed": true
   },
   "outputs": [],
   "source": [
    "# We keep plotting simple and use common packages and defaults\n",
    "import matplotlib.pyplot as plt\n",
    "import seaborn as sns\n",
    "# Set the aesthetics for Seaborn visuals\n",
    "sns.set(context='notebook', \n",
    "        style='whitegrid', \n",
    "        palette='deep', \n",
    "        font='sans-serif', \n",
    "        font_scale=1.3, \n",
    "        color_codes=True, \n",
    "        rc=None)\n",
    "%matplotlib inline"
   ]
  },
  {
   "cell_type": "code",
   "execution_count": 35,
   "metadata": {},
   "outputs": [
    {
     "data": {
      "text/plain": [
       "['gender',\n",
       " 'SeniorCitizen',\n",
       " 'Partner',\n",
       " 'Dependents',\n",
       " 'PhoneService',\n",
       " 'MultipleLines',\n",
       " 'InternetService',\n",
       " 'OnlineSecurity',\n",
       " 'OnlineBackup',\n",
       " 'DeviceProtection',\n",
       " 'TechSupport',\n",
       " 'StreamingTV',\n",
       " 'StreamingMovies',\n",
       " 'Contract',\n",
       " 'PaperlessBilling',\n",
       " 'PaymentMethod',\n",
       " 'Churn']"
      ]
     },
     "execution_count": 35,
     "metadata": {},
     "output_type": "execute_result"
    }
   ],
   "source": [
    "[feature_list[feature_index] for feature_index in categorical]"
   ]
  },
  {
   "cell_type": "code",
   "execution_count": 196,
   "metadata": {},
   "outputs": [],
   "source": [
    "# Set up the plot\n",
    "def plotFeatureCount(feature_name, count_flag):\n",
    "    fig, ax = plt.subplots(figsize=(12,7))\n",
    "    \n",
    "    if count_flag == 'Count':\n",
    "        ax = sns.countplot(x=feature_name, data=df_churn)\n",
    "    elif count_flag == 'Percentage':\n",
    "        x = df_churn[feature_name].unique()\n",
    "        y = [len([val for val in df_churn[feature_name] if val == x_val])/len(df_churn[feature_name]) * 100 \\\n",
    "             for x_val in x]\n",
    "        ax = sns.barplot(x,y)\n",
    "    \n",
    "    plt.ylabel(count_flag)\n",
    "    return plt.show()"
   ]
  },
  {
   "cell_type": "code",
   "execution_count": 195,
   "metadata": {},
   "outputs": [
    {
     "data": {
      "image/png": "[encoded data removed]",
      "text/plain": [
       "<matplotlib.figure.Figure at 0x120244d68>"
      ]
     },
     "metadata": {},
     "output_type": "display_data"
    }
   ],
   "source": [
    "# set up the plot for interactivity\n",
    "# Dropdown\n",
    "w_features = widgets.Dropdown(\n",
    "               options = [feature_list[feature_index] for feature_index in categorical],\n",
    "               description = 'Select Feature:',\n",
    "               value = 'gender',\n",
    "               button_style='info'\n",
    "              )\n",
    "\n",
    "w_radio = widgets.RadioButtons(\n",
    "    options=['Count', 'Percentage'],\n",
    "    value='Count',\n",
    "    description='Display:',\n",
    "    disabled=False\n",
    ")\n",
    "\n",
    "def on_value_change(change):\n",
    "    # Pass the value of the dropdown to the plotFeatureCount function\n",
    "    clear_output()\n",
    "    return plotFeatureCount(w_features.value, w_radio.value)\n",
    "\n",
    "w_features.observe(on_value_change)\n",
    "w_radio.observe(on_value_change)\n",
    "\n",
    "\n",
    "# Show a default plot\n",
    "plotFeatureCount(w_features.value, w_radio.value)\n",
    "# Show the widgets\n",
    "HBox([w_features, w_radio])"
   ]
  },
  {
   "cell_type": "markdown",
   "metadata": {},
   "source": [
    "### How are the Numerical Features Distributed?"
   ]
  },
  {
   "cell_type": "code",
   "execution_count": 207,
   "metadata": {},
   "outputs": [
    {
     "data": {
      "text/plain": [
       "['tenure', 'MonthlyCharges', 'TotalCharges']"
      ]
     },
     "execution_count": 207,
     "metadata": {},
     "output_type": "execute_result"
    }
   ],
   "source": []
  },
  {
   "cell_type": "code",
   "execution_count": 219,
   "metadata": {},
   "outputs": [
    {
     "data": {
      "image/png": "[encoded data removed]",
      "text/plain": [
       "<matplotlib.figure.Figure at 0x11dadf3c8>"
      ]
     },
     "metadata": {},
     "output_type": "display_data"
    }
   ],
   "source": [
    "g = sns.JointGrid(x=\"MonthlyCharges\", y=\"tenure\", data=df_churn)\n",
    "g = g.plot(sns.regplot, sns.distplot)"
   ]
  },
  {
   "cell_type": "code",
   "execution_count": 211,
   "metadata": {},
   "outputs": [],
   "source": [
    "# Set up the plot\n",
    "def plotFeatureHist(feature_name):\n",
    "    fig, ax = plt.subplots(figsize=(12,7))\n",
    "    sns.distplot(df_churn[feature_name], kde=False)\n",
    "    return plt.show()"
   ]
  },
  {
   "cell_type": "code",
   "execution_count": 222,
   "metadata": {},
   "outputs": [
    {
     "ename": "TypeError",
     "evalue": "unsupported operand type(s) for +: 'float' and 'str'",
     "output_type": "error",
     "traceback": [
      "\u001b[0;31m---------------------------------------------------------------------------\u001b[0m",
      "\u001b[0;31mTypeError\u001b[0m                                 Traceback (most recent call last)",
      "\u001b[0;32m<ipython-input-222-d1273940f84c>\u001b[0m in \u001b[0;36m<module>\u001b[0;34m()\u001b[0m\n\u001b[0;32m----> 1\u001b[0;31m \u001b[0mplotFeatureHist\u001b[0m\u001b[0;34m(\u001b[0m\u001b[0;34m'TotalCharges'\u001b[0m\u001b[0;34m)\u001b[0m\u001b[0;34m\u001b[0m\u001b[0m\n\u001b[0m",
      "\u001b[0;32m<ipython-input-211-a88bacbf8126>\u001b[0m in \u001b[0;36mplotFeatureHist\u001b[0;34m(feature_name)\u001b[0m\n\u001b[1;32m      2\u001b[0m \u001b[0;32mdef\u001b[0m \u001b[0mplotFeatureHist\u001b[0m\u001b[0;34m(\u001b[0m\u001b[0mfeature_name\u001b[0m\u001b[0;34m)\u001b[0m\u001b[0;34m:\u001b[0m\u001b[0;34m\u001b[0m\u001b[0m\n\u001b[1;32m      3\u001b[0m     \u001b[0mfig\u001b[0m\u001b[0;34m,\u001b[0m \u001b[0max\u001b[0m \u001b[0;34m=\u001b[0m \u001b[0mplt\u001b[0m\u001b[0;34m.\u001b[0m\u001b[0msubplots\u001b[0m\u001b[0;34m(\u001b[0m\u001b[0mfigsize\u001b[0m\u001b[0;34m=\u001b[0m\u001b[0;34m(\u001b[0m\u001b[0;36m12\u001b[0m\u001b[0;34m,\u001b[0m\u001b[0;36m7\u001b[0m\u001b[0;34m)\u001b[0m\u001b[0;34m)\u001b[0m\u001b[0;34m\u001b[0m\u001b[0m\n\u001b[0;32m----> 4\u001b[0;31m     \u001b[0msns\u001b[0m\u001b[0;34m.\u001b[0m\u001b[0mdistplot\u001b[0m\u001b[0;34m(\u001b[0m\u001b[0mdf_churn\u001b[0m\u001b[0;34m[\u001b[0m\u001b[0mfeature_name\u001b[0m\u001b[0;34m]\u001b[0m\u001b[0;34m,\u001b[0m \u001b[0mkde\u001b[0m\u001b[0;34m=\u001b[0m\u001b[0;32mFalse\u001b[0m\u001b[0;34m)\u001b[0m\u001b[0;34m\u001b[0m\u001b[0m\n\u001b[0m\u001b[1;32m      5\u001b[0m     \u001b[0;32mreturn\u001b[0m \u001b[0mplt\u001b[0m\u001b[0;34m.\u001b[0m\u001b[0mshow\u001b[0m\u001b[0;34m(\u001b[0m\u001b[0;34m)\u001b[0m\u001b[0;34m\u001b[0m\u001b[0m\n",
      "\u001b[0;32m/Users/jsubapple/anaconda/envs/mlcourse/lib/python3.6/site-packages/seaborn/distributions.py\u001b[0m in \u001b[0;36mdistplot\u001b[0;34m(a, bins, hist, kde, rug, fit, hist_kws, kde_kws, rug_kws, fit_kws, color, vertical, norm_hist, axlabel, label, ax)\u001b[0m\n\u001b[1;32m    190\u001b[0m             \u001b[0mline\u001b[0m\u001b[0;34m,\u001b[0m \u001b[0;34m=\u001b[0m \u001b[0max\u001b[0m\u001b[0;34m.\u001b[0m\u001b[0mplot\u001b[0m\u001b[0;34m(\u001b[0m\u001b[0;36m0\u001b[0m\u001b[0;34m,\u001b[0m \u001b[0ma\u001b[0m\u001b[0;34m.\u001b[0m\u001b[0mmean\u001b[0m\u001b[0;34m(\u001b[0m\u001b[0;34m)\u001b[0m\u001b[0;34m)\u001b[0m\u001b[0;34m\u001b[0m\u001b[0m\n\u001b[1;32m    191\u001b[0m         \u001b[0;32melse\u001b[0m\u001b[0;34m:\u001b[0m\u001b[0;34m\u001b[0m\u001b[0m\n\u001b[0;32m--> 192\u001b[0;31m             \u001b[0mline\u001b[0m\u001b[0;34m,\u001b[0m \u001b[0;34m=\u001b[0m \u001b[0max\u001b[0m\u001b[0;34m.\u001b[0m\u001b[0mplot\u001b[0m\u001b[0;34m(\u001b[0m\u001b[0ma\u001b[0m\u001b[0;34m.\u001b[0m\u001b[0mmean\u001b[0m\u001b[0;34m(\u001b[0m\u001b[0;34m)\u001b[0m\u001b[0;34m,\u001b[0m \u001b[0;36m0\u001b[0m\u001b[0;34m)\u001b[0m\u001b[0;34m\u001b[0m\u001b[0m\n\u001b[0m\u001b[1;32m    193\u001b[0m         \u001b[0mcolor\u001b[0m \u001b[0;34m=\u001b[0m \u001b[0mline\u001b[0m\u001b[0;34m.\u001b[0m\u001b[0mget_color\u001b[0m\u001b[0;34m(\u001b[0m\u001b[0;34m)\u001b[0m\u001b[0;34m\u001b[0m\u001b[0m\n\u001b[1;32m    194\u001b[0m         \u001b[0mline\u001b[0m\u001b[0;34m.\u001b[0m\u001b[0mremove\u001b[0m\u001b[0;34m(\u001b[0m\u001b[0;34m)\u001b[0m\u001b[0;34m\u001b[0m\u001b[0m\n",
      "\u001b[0;32m/Users/jsubapple/anaconda/envs/mlcourse/lib/python3.6/site-packages/numpy/core/_methods.py\u001b[0m in \u001b[0;36m_mean\u001b[0;34m(a, axis, dtype, out, keepdims)\u001b[0m\n\u001b[1;32m     68\u001b[0m             \u001b[0mis_float16_result\u001b[0m \u001b[0;34m=\u001b[0m \u001b[0;32mTrue\u001b[0m\u001b[0;34m\u001b[0m\u001b[0m\n\u001b[1;32m     69\u001b[0m \u001b[0;34m\u001b[0m\u001b[0m\n\u001b[0;32m---> 70\u001b[0;31m     \u001b[0mret\u001b[0m \u001b[0;34m=\u001b[0m \u001b[0mumr_sum\u001b[0m\u001b[0;34m(\u001b[0m\u001b[0marr\u001b[0m\u001b[0;34m,\u001b[0m \u001b[0maxis\u001b[0m\u001b[0;34m,\u001b[0m \u001b[0mdtype\u001b[0m\u001b[0;34m,\u001b[0m \u001b[0mout\u001b[0m\u001b[0;34m,\u001b[0m \u001b[0mkeepdims\u001b[0m\u001b[0;34m)\u001b[0m\u001b[0;34m\u001b[0m\u001b[0m\n\u001b[0m\u001b[1;32m     71\u001b[0m     \u001b[0;32mif\u001b[0m \u001b[0misinstance\u001b[0m\u001b[0;34m(\u001b[0m\u001b[0mret\u001b[0m\u001b[0;34m,\u001b[0m \u001b[0mmu\u001b[0m\u001b[0;34m.\u001b[0m\u001b[0mndarray\u001b[0m\u001b[0;34m)\u001b[0m\u001b[0;34m:\u001b[0m\u001b[0;34m\u001b[0m\u001b[0m\n\u001b[1;32m     72\u001b[0m         ret = um.true_divide(\n",
      "\u001b[0;31mTypeError\u001b[0m: unsupported operand type(s) for +: 'float' and 'str'"
     ]
    },
    {
     "data": {
      "image/png": "[encoded data removed]",
      "text/plain": [
       "<matplotlib.figure.Figure at 0x11a29b048>"
      ]
     },
     "metadata": {},
     "output_type": "display_data"
    }
   ],
   "source": [
    "plotFeatureHist('TotalCharges')"
   ]
  },
  {
   "cell_type": "code",
   "execution_count": null,
   "metadata": {
    "collapsed": true
   },
   "outputs": [],
   "source": []
  }
 ],
 "metadata": {
  "kernelspec": {
   "display_name": "Python 3",
   "language": "python",
   "name": "python3"
  },
  "language_info": {
   "codemirror_mode": {
    "name": "ipython",
    "version": 3
   },
   "file_extension": ".py",
   "mimetype": "text/x-python",
   "name": "python",
   "nbconvert_exporter": "python",
   "pygments_lexer": "ipython3",
   "version": "3.6.1"
  },
  "widgets": {
   "state": {
    "56121cc5d94141c0b5b32ea65945e801": {
     "views": [
      {
       "cell_index": 22
      }
     ]
    }
   },
   "version": "1.2.0"
  }
 },
 "nbformat": 4,
 "nbformat_minor": 2
}
