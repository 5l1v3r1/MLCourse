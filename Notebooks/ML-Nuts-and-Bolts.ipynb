{
 "cells": [
  {
   "cell_type": "code",
   "execution_count": 1,
   "metadata": {
    "slideshow": {
     "slide_type": "skip"
    }
   },
   "outputs": [
    {
     "data": {
      "text/plain": [
       "{'height': 768, 'scroll': True, 'width': 1024}"
      ]
     },
     "execution_count": 1,
     "metadata": {},
     "output_type": "execute_result"
    }
   ],
   "source": [
    "# Configure slide scrolling\n",
    "from notebook.services.config import ConfigManager\n",
    "cm = ConfigManager()\n",
    "cm.update('livereveal', {\n",
    "        'width': 1024,\n",
    "        'height': 768,\n",
    "        'scroll': True,\n",
    "})"
   ]
  },
  {
   "cell_type": "markdown",
   "metadata": {
    "slideshow": {
     "slide_type": "slide"
    }
   },
   "source": [
    "# The Nuts & Bolts of Machine Learning"
   ]
  },
  {
   "cell_type": "markdown",
   "metadata": {},
   "source": [
    "TO DO\n",
    "- Extract penalty functions for use in other notebooks\n",
    "- "
   ]
  },
  {
   "cell_type": "markdown",
   "metadata": {
    "slideshow": {
     "slide_type": "slide"
    }
   },
   "source": [
    "## A Definition\n",
    "\n",
    ">\"A computer program is said to learn from **experience** *E* with respect to some class of **tasks** *T* and **performance measure** *P*, if its performance at tasks in *T*, as measured by *P*, improves with experience *E*.\" \n",
    "[Tom Mitchell, *Machine Learning* (1997)]\n",
    "\n",
    "### Unpack the Definition\n",
    "So computer programs are the things that do the learning. They are programmed to do certain tasks. Let's focus on a single task -- say, the ability to pick out a face in a photograph. As we increase the computer program's exposure to relevant experience, its performance can either stay the same, get worse, or improve. If performance improves, we say that the computer program *learns from experience*. If not, then there's no machine learning to speak of.\n",
    "\n",
    "If we list the elements in this definition, we get:\n",
    "- a computer program\n",
    "- a task that the computer program performs\n",
    "- experience used by the computer program to perform the task\n",
    "- a measure of how well the computer program performs on the task\n",
    "\n",
    "Let's start with *experience*."
   ]
  },
  {
   "cell_type": "markdown",
   "metadata": {
    "slideshow": {
     "slide_type": "slide"
    }
   },
   "source": [
    "## What is Experience?\n",
    "\n",
    "Life provides us with a variety of experiences. We can see, feel, touch, smell, and taste (and perhaps have other abilities to sense and navigate our environment).\n",
    "\n",
    "For a computer program that learns -- i.e., for machine learning -- there are three things to keep in mind about exeperience.\n",
    "\n",
    "- Experience $\\neq$ Rules\n",
    "- Experience = Data\n",
    "- Data = A Table of Numbers\n",
    "\n",
    "It's as easy as that! Let's see what this looks like for various kinds of experience."
   ]
  },
  {
   "cell_type": "markdown",
   "metadata": {
    "slideshow": {
     "slide_type": "slide"
    }
   },
   "source": [
    "## Experiece in the Form of Images\n",
    "\n",
    "\n",
    "![Valentino Rossi](../Images/Nuts-and-Bolts/Rossi.png)\n",
    "\n",
    "To a computer program that learns from experience, an image is a grid of pixels. In this case, we've arbitrarily created a grid of 5x10 pixels. For color images, each pixel is represented by 3 numbers: the values of the Red, Green, and Blue components of the color (RGB color values). Each of these values is an integer between 0 and 255.\n",
    "\n",
    "![Valentino Rossi Pixelated](../Images/Nuts-and-Bolts/Rossi-Grid.png)\n",
    "\n",
    "So this image is read by the computer program as a row of 50 items, each item containing 3 integers.\n",
    "\n",
    "![Valentino Rossi Pixel Row](../Images/Nuts-and-Bolts/Image-Pixel-Row.png)\n"
   ]
  },
  {
   "cell_type": "markdown",
   "metadata": {
    "slideshow": {
     "slide_type": "subslide"
    }
   },
   "source": [
    "## Experience in the Form of Images\n",
    "\n",
    "This is what we see. But a computer sees...is just a table of numbers. So being able to detect a motorcylce in a picture (or a face in a picture) is not as easy as you'd think.\n",
    "\n",
    "![What Computers See](../Images/Nuts-and-Bolts/motorcylce.png)\n",
    "\n",
    "Of course, humans find doing this kind of thing (identifying pictures of motorcycles or helmets on motorcycle rides) trivially easy. Computer programs do get better as they're exposed to more images, so this fits the classic definition of machine learning and computer vision continues to be hot area of research in the field."
   ]
  },
  {
   "cell_type": "markdown",
   "metadata": {
    "slideshow": {
     "slide_type": "slide"
    }
   },
   "source": [
    "## Experience in the Form of Text\n",
    "\n",
    "![Some Text](../Images/Nuts-and-Bolts/Text.png)\n",
    "\n",
    "To a computer program that learns from experience, a text document is a row of numbers. Each word in the document is represented by a row of string of numbers. We'll see later what these numbers are.\n",
    "\n",
    "![Text as Row of Numbers](../Images/Nuts-and-Bolts/Text-Data.png)"
   ]
  },
  {
   "cell_type": "markdown",
   "metadata": {
    "collapsed": true,
    "slideshow": {
     "slide_type": "slide"
    }
   },
   "source": [
    "## Experience in the Form of Sounds\n",
    "\n",
    "To a computer program, an audio stream is, not surprisingly, also a row of numbers. For example, these numbers can be [time, amplitude] pairs such as [1, 23.2].\n",
    "\n",
    "![Audio Streams](../Images/Nuts-and-Bolts/Audio-Streams.png)\n",
    "![Audio as Numbers](../Images/Nuts-and-Bolts/Audio-Data-Row.png)"
   ]
  },
  {
   "cell_type": "markdown",
   "metadata": {
    "slideshow": {
     "slide_type": "slide"
    }
   },
   "source": [
    "## Experience in the Form of Spreadsheets\n",
    "\n",
    "We've seen that data that comes to us in the form of images, text, and audio are converted into tables of numbers so that computer programs can make sense of them.\n",
    "\n",
    "Data that comes to us in spreadsheets are already in the form of an m x n table where m is the number of rows and n is the number of columns of the table.\n",
    "\n",
    "![Text as Row of Numbers](../Images/Nuts-and-Bolts/Data-Table.png)\n",
    "\n",
    "To make this table suitable for use in a computer program, we represent categories like \"Male\" and \"Female\" with integrers (say, Male = 0, Female = 1). Similarly, Smoker can be 1 and Non-Smoker can be represented by 0."
   ]
  },
  {
   "cell_type": "markdown",
   "metadata": {
    "slideshow": {
     "slide_type": "slide"
    }
   },
   "source": [
    "## Experience is a Table of Numbers\n",
    "\n",
    "Let's sum up what experience is to a computer program.\n",
    "\n",
    "- In machine learning experience $\\neq$ rules or recipes.\n",
    "- Experience is a table of numbers.\n",
    "\n",
    "The table of numbers has a structure as we see below:\n",
    "\n",
    "![Text as Row of Numbers](../Images/Nuts-and-Bolts/Features.png)\n",
    "\n",
    "- The inputs are called *features*. These are marked f1 through f6 in the diagram above.\n",
    "- One of the columns is labeled the *output*.\n",
    "- The inputs and the output are *always* numbers. These numbers can be:\n",
    "    - postitive or negative integers such as 0, 1, -2, and so on\n",
    "    - positive or negative reals such as 0.5, 26.4, -3.6, and so on\n",
    "    \n",
    "And that's what experience is for a computer program."
   ]
  },
  {
   "cell_type": "markdown",
   "metadata": {
    "slideshow": {
     "slide_type": "slide"
    }
   },
   "source": [
    "## What are Tasks?\n",
    "\n",
    "In machine learning, tasks fall into 3 categories:\n",
    "- Predict a number (e.g., something that's on a continuous scale, like temparature)\n",
    "- Predict a category or class (e.g., smoker or non-smoker?)\n",
    "- Don't predict anything; instead find patterns in the data set. These patterns fall into 3 groups:\n",
    "    - Clustering (which rows of the dataset can be grouped together? For example, do purchasers of )\n",
    "    - Association (are there rules that connect rows of a dataset to other rows of the dataset?)\n",
    "    - Reduction/Compression (can the dataset be represented by one that has fewer features?)\n",
    "    \n",
    "In machine learning, prediction is possible only when the dataset has a clearly demarcated output column. In other words, we need to have a dataset that already says if the values of features f1, f2, f3 are such and such then the value of the output is such and such. If we don't have this kind of dataset, we *cannot* predict anything.\n",
    "\n",
    "For this reason, prediction is called a *supervised* learning problem. The learning is supervised or controlled by the actual outputs in the dataset.\n",
    "\n",
    "When the dataset does not have a designated column of outputs, then there's no sense in predicting an output. Rather, in these cases, machine learning algoritms are used to better understand the structure of the dataset -- whether and how the elements of the dataset are grouped together, how these elements are associated with each other. This is called *unsupervised* learning.\n",
    "\n",
    "There are other types of learning that are variants or each of these main types."
   ]
  },
  {
   "cell_type": "markdown",
   "metadata": {
    "collapsed": true,
    "slideshow": {
     "slide_type": "slide"
    }
   },
   "source": [
    "## Task = Predict the Price of a House\n",
    "\n",
    "Let's take a specific task. Suppose we have some data on house prices in Portland, Oregon. In particular, we have a dataset that lists a number of houses (let's say we have 300 of them). For each row of the dataset represents the features and the output of a single house. The two features are the number of bedrooms a house has and the size of the house in square feet. The output is the price of the house.\n",
    "\n",
    "![House Price Dataset Excerpt](../Images/Nuts-and-Bolts/House-Features.png)\n",
    "\n",
    "**Our task, to put it precisely, is to predict the price of house that is *not* in this dataset. In other words, given number of bedrooms and the size of the house in square feet, we'll (or the computer program will) have to predict the price of the house.**\n",
    "\n",
    "Note: We think of prediction as having to do with events in the future (remember the Yogi Berra's line that prediction is hard, especially of the future?). But prediction in the context of machine learning has to do with coming up with an output that is not in the dataset given a set of input/feature values that are not in the dataset. If the feature values are in the dataset then we can just look up the output in the dataset and we wouldn't need to predict anything. \n",
    "\n",
    "(There is a subtle point here about machine learning that we'll come to see in a later session when we talk about measuring how good a machine learning model is.)\n",
    "\n",
    "So prediction in the machine learning context is about the as yet unseen rather than the temporal notion of something that's going to happen in the future."
   ]
  },
  {
   "cell_type": "markdown",
   "metadata": {
    "slideshow": {
     "slide_type": "slide"
    }
   },
   "source": [
    "## Notation\n",
    "\n",
    "We won't be using a lot of notation in this course, but this is a situation where just a bit of notation goes a long way.\n",
    "\n",
    "Think of the dataset as being built up of the following values:\n",
    "\n",
    "![Text as Row of Numbers](../Images/Nuts-and-Bolts/House-Price-Dataset.png)\n",
    "\n",
    "![Text as Row of Numbers](../Images/Nuts-and-Bolts/Notation.png)"
   ]
  },
  {
   "cell_type": "markdown",
   "metadata": {
    "slideshow": {
     "slide_type": "slide"
    }
   },
   "source": [
    "## Constructing a Model to Do the Prediction Task\n",
    "\n",
    "To predict the price of a house that's not in the dataset we're going to pretend that the price can be constructed by adding and multiplying some numbers.\n",
    "\n",
    "$$(w_{1} * x_{1}) + (w_{2} * x_{2}) = \\hat{y}$$\n",
    "\n",
    "- $x_{1}$ = number of bedrooms (the first feature)\n",
    "- $x_{2}$ = size in square feet (the second feature)\n",
    "- $w_{1}, w_{2}$ = parameters\n",
    "- $\\hat{y}$ = predicted house price\n",
    "\n",
    "For mathematical reasons, this is written with an additional parameter $w_{0}$ like this:\n",
    "\n",
    "$$(w_{0} * x_{0}) + (w_{1} * x_{1}) + (w_{2} * x_{2}) = \\hat{y}$$\n",
    "\n",
    "$w_{0}$ is called the *intercept value* and we'll determine this value as part of the machine learning process. \n",
    "\n",
    "$x_{0}$ on the other hand is a constant that is always equal to the value of 1."
   ]
  },
  {
   "cell_type": "markdown",
   "metadata": {
    "slideshow": {
     "slide_type": "slide"
    }
   },
   "source": [
    "## What the Model Has Done to the Dataset\n",
    "\n",
    "Let's look at what we've done in constructing the model.\n",
    "\n",
    "![Model Adds Columns](../Images/Nuts-and-Bolts/Dataset-Expand-Columns.png)\n",
    "\n",
    "As it says in the diagram, the model's effect on the table is to expand it by adding some columns to the table. The dataset now looks like this in full.\n",
    "\n",
    "![Model Full Dataset](../Images/Nuts-and-Bolts/House-Price-Dataset2.png)\n",
    "\n",
    "For each row, we're going to say:\n",
    "\n",
    "![Model Full Dataset with Predictions](../Images/Nuts-and-Bolts/House-Price-Dataset3.png)\n",
    "\n",
    "Notice that while the $x_{1}$s, the $x_{2}$s, and the $\\hat{y}$s are different in each row, the $w_{0}$, $w_{1}$, and $w_{2}$ values are *exactly the same in every row*.\n",
    "\n",
    "We know all the $x_{0}$, $x_{1}$, and $x_{2}$ values for the entire dataset. If we knew the values of $w_{0}$, $w_{1}$, and $w_{2}$, we'd be able to find the $\\hat{y}$ values.\n",
    "\n",
    "So the question is: how do we find the values of $w_{0}$, $w_{1}$, and $w_{2}$?"
   ]
  },
  {
   "cell_type": "markdown",
   "metadata": {
    "collapsed": true,
    "slideshow": {
     "slide_type": "slide"
    }
   },
   "source": [
    "## How Do We Find the Parameter Values?\n",
    "\n",
    "To find the values of $w_{0}$, $w_{1}$, and $w_{2}$, let's look at the first row of the dataset.\n",
    "\n",
    "![Model Dataset First Row](../Images/Nuts-and-Bolts/House-Price-Dataset-Row.png)\n",
    "\n",
    "- (A) We'd like to calculate $\\hat{y}^{(1)}$ -- the predicted price by calculating $\\hat{y}^{1} = (w_{0} * x_{0}^{(1)}) + (w_{1} * x_{1}^{(1)}) + (w_{2} * x_{2}^{(1)})$.\n",
    "- (B) We'd like $\\hat{y}^{(1)}$ to be as close to $y^{(1)}$ as possible.\n",
    "\n",
    "Given (A) and (B), what should the values of $w_{0}$, $w_{1}$, and $w_{2}$ be?"
   ]
  },
  {
   "cell_type": "markdown",
   "metadata": {
    "slideshow": {
     "slide_type": "subslide"
    }
   },
   "source": [
    "## First Try\n",
    "\n",
    "As a first attempt, what if we just solved the following equation to find the values of $w_{0}$, $w_{1}$, and $w_{2}$?\n",
    "\n",
    "$$(w_{0} * 1) + (w_{1} * 4) + (w_{2} * 2500) = 350000$$\n",
    "\n",
    "In other words, make the prediction exactly equal to the price of the house. This is promising because we're focusing on minimizing the difference between the actual and the predicted price.\n",
    "\n",
    "But it still leaves us with too many options for the values of $w_{0}$, $w_{1}$, and $w_{2}$. "
   ]
  },
  {
   "cell_type": "markdown",
   "metadata": {
    "slideshow": {
     "slide_type": "subslide"
    }
   },
   "source": [
    "## Another Approach\n",
    "\n",
    "What if we just randomly chose the values of $w_{0}$, $w_{1}$, and $w_{2}$? How about:\n",
    "\n",
    "- $w_{0}$ = -10\n",
    "- $w_{1}$ = 500\n",
    "- $w_{2}$ = 160.5\n",
    "\n",
    "This gives us a predicted price of $\\hat{y}^{(1)}$ = 322,990.\n",
    "\n",
    "Not bad. This is a little lower than the actual price of 350,000."
   ]
  },
  {
   "cell_type": "markdown",
   "metadata": {
    "slideshow": {
     "slide_type": "slide"
    }
   },
   "source": [
    "## The Penalty for Making Incorrect Predictions\n",
    "\n",
    "How well did we do by choosing random values for $w_{0}$, $w_{1}$, and $w_{2}$? Is there a way to measure how good these values are?\n",
    "\n",
    "One way to think about this is to ask: How much should we be penalized for this incorrect prediction of 322,990 for the price of first house in the dataset?\n",
    "\n",
    "What if we used a simple idea that the size of the penalty (or the cost of being wrong) is just the difference between the predicted and the actual value?\n",
    "\n",
    "> This brings us to one of the most important fundamental ideas in data mining [machine learning] -- one that surprisingly is often overlooked even by data scientists themselves: we need to ask, what should be our goal or *objective* in choosing the parameters? In our case, this would allow us to anser the question: waht wights whould we choose? Our general procedure will be to define an *objective function* that represents our goal, and can be calculated for a particualr set of weights and a particular set of data. We will then find the optimal value for the weights by maximizing or minimizing the objective function. What can easily be overlooked is that these weights are \"best\" only if we believe that the objective function truly represents what we want to achieve, or practically speaking, is the best proxy we can come up with. We will return to this later in this book.\n",
    "\n",
    "> Unfortunately, creating an objective function that matches the true goal ofthe data mining [machine learning task] is usually impossible, so data scientists often choose based on faith and experience. Several choices have been shown to be remarkably effective. [Provost and Fawcett (2013), pp.88-9.]"
   ]
  },
  {
   "cell_type": "code",
   "execution_count": 2,
   "metadata": {
    "slideshow": {
     "slide_type": "skip"
    }
   },
   "outputs": [
    {
     "data": {
      "text/plain": [
       "<matplotlib.lines.Line2D at 0x111e3c550>"
      ]
     },
     "execution_count": 2,
     "metadata": {},
     "output_type": "execute_result"
    }
   ],
   "source": [
    "import matplotlib.pyplot as plt\n",
    "import numpy as np\n",
    "\n",
    "# Generate the data for a plot with slope = 1\n",
    "x, y = np.linspace(-500000,500000,500), np.linspace(-500000,500000,500)\n",
    "\n",
    "# Set up the plot area\n",
    "fig, ((ax11, ax12), \n",
    "      (ax21, ax22), \n",
    "      (ax31, ax32), \n",
    "      (ax41,ax42)) = \\\n",
    "plt.subplots(figsize=(15,15), nrows=4, ncols=2, sharey=False)\n",
    "\n",
    "# Generate the plots\n",
    "ax11.plot(x,y)\n",
    "ax12.plot(x,-y)\n",
    "\n",
    "def f21(x):\n",
    "    if(x < 0): return -x\n",
    "    else: return 0\n",
    "\n",
    "ax21.plot(x, list(map(f21,x)))\n",
    "\n",
    "def f22(x):\n",
    "    if(x < 0): return 0\n",
    "    else: return x\n",
    "ax22.plot(x, list(map(f22,x)))\n",
    "\n",
    "def f31(x):\n",
    "    if (x < 0): return -x\n",
    "    else: return x\n",
    "\n",
    "ax31.plot(x, list(map(f31,x)))\n",
    "\n",
    "def f32(x):\n",
    "    if (x < 0): return x\n",
    "    else: return -x\n",
    "\n",
    "ax32.plot(x, list(map(f32,x)))\n",
    "\n",
    "ax41.plot(x, y**2)\n",
    "\n",
    "ax42.plot(x, -y**2)\n",
    "\n",
    "\n",
    "fig.suptitle('A Variety of Penalty Functions', fontweight='bold')\n",
    "\n",
    "# Plot (1,1)\n",
    "ax11.set(xlabel='Predicted Value - Actual Value',\n",
    "         ylabel='Penalty'\n",
    "        )\n",
    "ax11.axvline(x=0, color='black')\n",
    "ax11.axhline(y=0, color='black')\n",
    "\n",
    "# Plot (1,2)\n",
    "ax12.set(xlabel='Predicted Value - Actual Value')\n",
    "ax12.axvline(x=0, color='black')\n",
    "ax12.axhline(y=0, color='black')\n",
    "\n",
    "# Plot (2,1)\n",
    "ax21.set(xlabel='Predicted Value - Actual Value', ylabel='Penalty')\n",
    "ax21.axvline(x=0, color='black')\n",
    "ax21.axhline(y=0, color='black')\n",
    "ax21.set_ylim([-500000,500000])\n",
    "\n",
    "# Plot (2,2)\n",
    "ax22.set(xlabel='Predicted Value - Actual Value')\n",
    "ax22.axvline(x=0, color='black')\n",
    "ax22.axhline(y=0, color='black')\n",
    "ax22.set_ylim([-500000,500000])\n",
    "\n",
    "# Plot (3,1)\n",
    "ax31.set(xlabel='Predicted Value - Actual Value')\n",
    "ax31.set(ylabel='Penalty')\n",
    "ax31.axvline(x=0, color='black')\n",
    "ax31.axhline(y=0, color='black')\n",
    "ax31.set_ylim([-500000,500000])\n",
    "\n",
    "# Plot (3,2)\n",
    "ax32.set(xlabel='Predicted Value - Actual Value')\n",
    "ax32.axvline(x=0, color='black')\n",
    "ax32.axhline(y=0, color='black')\n",
    "ax32.set_ylim([-500000,500000])\n",
    "\n",
    "# Plot (4,1)\n",
    "ax41.set(xlabel='Predicted Value - Actual Value')\n",
    "ax41.set(ylabel='Penalty')\n",
    "ax41.axvline(x=0, color='black')\n",
    "ax41.axhline(y=0, color='black')\n",
    "\n",
    "# Plot (4,2)\n",
    "ax42.set(xlabel='Predicted Value - Actual Value')\n",
    "ax42.axvline(x=0, color='black')\n",
    "ax42.axhline(y=0, color='black')"
   ]
  },
  {
   "cell_type": "code",
   "execution_count": 3,
   "metadata": {
    "slideshow": {
     "slide_type": "slide"
    }
   },
   "outputs": [
    {
     "data": {
      "image/png": "[encoded data removed]",
      "text/plain": [
       "<matplotlib.figure.Figure at 0x10b5f62b0>"
      ]
     },
     "metadata": {},
     "output_type": "display_data"
    }
   ],
   "source": [
    "# A few different types of penalty functions\n",
    "plt.show()"
   ]
  },
  {
   "cell_type": "markdown",
   "metadata": {
    "slideshow": {
     "slide_type": "slide"
    }
   },
   "source": [
    "## Including a Penalty Column in the Dataset\n",
    "\n",
    "Let's go back to our datatable and expand it to include one more column -- one for the penalty calculated.\n",
    "\n",
    "![Model Dataset with Penalty Column](../Images/Nuts-and-Bolts/House-Dataset-with-Penalty-Column.png)\n",
    "\n",
    "We can use any penalty function that makes sense to us. For a penalty function to make sense, it should behave according to the following principles:\n",
    "- The better the prediction, i.e., the closer the prediction is from the actual value, the lower the penalty.\n",
    "- The best prediction has the *smallest* penalty."
   ]
  },
  {
   "cell_type": "markdown",
   "metadata": {
    "slideshow": {
     "slide_type": "slide"
    }
   },
   "source": [
    "## Minimizing the Penalty over the Entire Dataset\n",
    "\n",
    "Remember that the values of $w_{0}$, $w_{1}$, and $w_{2}$ are the same for every row in the data set. Lets say we pick the same values for these parameters as before:\n",
    "\n",
    "- $w_{0}$ = -10\n",
    "- $w_{1}$ = 500\n",
    "- $w_{2}$ = 160.5\n",
    "\n",
    "For these values, let's calculate the penalty for *every* row of the dataset and *sum* the values over the entire dataset.\n",
    "\n",
    "![Model Dataset with Penalty Column2](../Images/Nuts-and-Bolts/House-Dataset-with-Penalty-Column2.png)\n",
    "\n",
    "**What We Want**\n",
    "\n",
    "**The values of $w_{0}$, $w_{1}$, and $w_{2}$ that minimizes the sum of the penalties over the entire dataset.**\n",
    "\n",
    "That's all well and good, but *how exactly* are we to find these values for $w_{0}$, $w_{1}$, and $w_{2}$?\n",
    "\n",
    "To solve this final piece of the puzzle, let's visualize the penalty as a function of the parameter values."
   ]
  },
  {
   "cell_type": "markdown",
   "metadata": {
    "slideshow": {
     "slide_type": "subslide"
    }
   },
   "source": [
    "## Two Types of Performance\n",
    "\n",
    "Tom Mitchell's definition of machine learning might be too narrow and too broad at the same time. The culprit could be the phrase, \"if its performance at tasks in *T*, as measured by *P*, improves with experience *E*.\"\n",
    "\n",
    "Suppose the task is recoginizing a face in a photograph. The relevant experience is photographs with faces that occur in them identified as such.\n",
    "\n",
    "You could imagine a computer program learning to do this task *T* from experience *E*. Let's say its performance on the task after experiencing 100 photos is p. Give it more relevant experience, and say its performance doesn't improve beyond p. Should we rule this out as a case of machine learning? Probably not. So in this case the definition is too narrow -- it rules out too many cases that fit the bill.\n",
    "\n",
    "The most basic task in any machine learning is to find the values of the parameters of the model that minimize the penalty on the dataset as a whole. For this task, it's obvious that as we expose more and more of the rows of the dataset to the optimization algorithm, the values of the parameters will get better and better and better -- i.e., closer and closer to the actual values that miniminze the penalty over the entire dataset. So in this case the definition is too broad -- it doesn't rule out anything.\n",
    "\n",
    "More on this when we explore the art of machine learning -- determining how good a machine learning system is."
   ]
  },
  {
   "cell_type": "markdown",
   "metadata": {
    "slideshow": {
     "slide_type": "slide"
    }
   },
   "source": [
    "## Finding Your Way to the Valley Floor\n",
    "\n",
    "Suppose I helicoptered you to the top of a mountain, blindfolded you and said, \"Let's see if you can find your way to the bottom of this mountain, good luck!\" How would you find you way down to the valley floor?\n",
    "\n",
    "Here's one way to do it. Feel around with your foot in every direction around you. Take one tiny step in the direction that feels like it's descending the most rapidly. Repeat until it's flat in all directions around you. It's simplistic, might take you a (long) time to get to the bottom, but given your situation it's worth a shot.\n",
    "\n",
    "This \"algorithm\" for taking baby steps in the right direction, is similar to the one that computer programs use to find their way to the minimum penalty over the entire dataset. It's known as *Gradient Descent*. You can alter the size of the step you take -- the size is called the *learning rate*. You can alter the total number of steps you're willing to take, i.e., the number of *iterations* of the gradient descent algorith.\n",
    "\n",
    "In a real-world problem, the algorithm needs to use sophisticated techniques of numerical computation to return results efficiently. Thankfully, we can stand on the shoulders of the amazing work that people have done in numerical computation and make use of these hard-earned results to make our job a lot easier.\n",
    "\n",
    "To visualize this in the 3 dimensions we have, let's pretend we only had $w_{0}$ and $w_{1}$ to find. Then for any pair of values for $w_{0}$ and $w_{1}$, we can calculate the total penalty across the entire dataset. Imagine we did this for a whole bunch of values of $w_{0}$ and $w_{1}$. Then we'd have something like what we see below -- a hilly penalty terrain.\n",
    "\n",
    "![Penalty Surface](../Images/Nuts-and-Bolts/Penalty-Surface.png)\n",
    "\n",
    "- A numerical computation algorithm is a recipe for finding the values of $w_{0}$ and $w_{1}$ that result in the minimum penalty over the entire dataset. The algorithm we just described for finding your way to valley floor is called *Gradient Descent* and is used frequently in machine learning.\n",
    "- The values of $w_{0}$ and $w_{1}$ that result in the minimum penalty over the entire dataset are the values that are then used to predict the value of the output for a new set of inputs. (Recall the model that multiplies the w values by the respective feature values to generate this prediction.)\n",
    "- The computer program has *learned* the parameter values from experience."
   ]
  },
  {
   "cell_type": "markdown",
   "metadata": {
    "slideshow": {
     "slide_type": "subslide"
    }
   },
   "source": [
    "## The Gradient Descent Algorithm\n",
    "\n",
    "The numerical computation algorithm that finds the values of the parameters that result in the lowest penalty over the entire dataset (gradient descent) is simple to write down:\n",
    "    - Step 1: Pick any set of initial values for $w_{0}$, $w_{1}$, and $w_{2}$.\n",
    "    - Step 2: Find the total penalty over the dataset.\n",
    "    - Step 3: Look all around $w_{0}$, $w_{1}$, and $w_{2}$. Find values close to the previous values that result in a lower penalty. If none of the close values result in a lower penalty, STOP.\n",
    "    - Step 4: Repeat Step 3."
   ]
  },
  {
   "cell_type": "markdown",
   "metadata": {
    "slideshow": {
     "slide_type": "slide"
    }
   },
   "source": [
    "## Summary\n",
    "\n",
    "- Experience = the complete dataset\n",
    "- Task = predict the price of a house given the number of bedrooms and the size of the house\n",
    "- Performance = The value of the penalty function for a particular set of parameter values\n",
    "- Best performance = The parameter values that minimize the penalty over the entire dataset\n",
    "- The way to get to the best performance values for $w_{0}$, $w_{1}$, and $w_{2}$ is to use a numerical computation algorithm.\n",
    "- Machine learning problems are giant numerical optimzation problems over the entire dataset.\n",
    "- You don't need big data to do machine learning (but it can help for some problems)."
   ]
  },
  {
   "cell_type": "markdown",
   "metadata": {
    "slideshow": {
     "slide_type": "slide"
    }
   },
   "source": [
    "## Looking Ahead: The Seven Steps of Machine Learning\n",
    "\n",
    "1. Understand the data you have (where does it come from, how was it obtained, how representative is it?)\n",
    "2. Define the task you want to accomplish.\n",
    "    1. Identify the inputs. These will be the features of the dataset.\n",
    "    2. Identify the output. This will be the thing that you'd like to predict. [When there is no output you can still do machine learning -- it's called *unsupervised* machine learning. We'll come to it later in the course.]\n",
    "3. Define the model.\n",
    "    1. Define the features (they could be the same as the inputs).\n",
    "    2. Figure out how you're going to transform the features into the output.\n",
    "    3. Clarify the parameters whose values need to be learned.\n",
    "4. Define the penalty for incorrect answers.\n",
    "5. Find the parameter values that minimize the penalty over the entire dataset.\n",
    "6. Use the parameter values and the model to predict a new ouput value for a new set of inputs.\n",
    "7. Measure the performance of the model and understand how it can be improved."
   ]
  },
  {
   "cell_type": "code",
   "execution_count": null,
   "metadata": {
    "collapsed": true
   },
   "outputs": [],
   "source": []
  }
 ],
 "metadata": {
  "celltoolbar": "Slideshow",
  "kernelspec": {
   "display_name": "Python 3",
   "language": "python",
   "name": "python3"
  },
  "language_info": {
   "codemirror_mode": {
    "name": "ipython",
    "version": 3
   },
   "file_extension": ".py",
   "mimetype": "text/x-python",
   "name": "python",
   "nbconvert_exporter": "python",
   "pygments_lexer": "ipython3",
   "version": "3.6.1"
  }
 },
 "nbformat": 4,
 "nbformat_minor": 2
}
