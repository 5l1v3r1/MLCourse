{
 "cells": [
  {
   "cell_type": "markdown",
   "metadata": {
    "slideshow": {
     "slide_type": "slide"
    }
   },
   "source": [
    "# The Nuts & Bolts of Machine Learning"
   ]
  },
  {
   "cell_type": "markdown",
   "metadata": {
    "slideshow": {
     "slide_type": "slide"
    }
   },
   "source": [
    "## A Definition\n",
    "\n",
    ">\"A computer program is said to learn from **experience** *E* with respect to some class of **tasks** *T* and **performance measure** *P*, if its performance is at tasks in *T*, as measured by *P*, improves with experience *E*.\" \n",
    "(Tom Mitchell, *Machine Learning* (1997))\n",
    "\n",
    "### Unpack the Definition\n",
    "So computer programs are the things that do the learning. They are programmed to do certain tasks. Let's focus on a single task -- say, the ability to pick out a face in a photograph. As we increase the computer program's exposure to experience, its performance can either stay the same, get worse, or improve. If performance improves, we say that the computer program *learns from experience*. If not, then there's no machine learning to speak of.\n",
    "\n",
    "The components to keep a watch out for are:\n",
    "- a computer program\n",
    "- a task that the computer program performs\n",
    "- experience used by the computer program to perform the task\n",
    "- measures of how well the computer program performs on the task\n",
    "\n",
    "Let's start with experience."
   ]
  },
  {
   "cell_type": "markdown",
   "metadata": {
    "slideshow": {
     "slide_type": "slide"
    }
   },
   "source": [
    "## What is Experience?\n",
    "\n",
    "Life provides us with a variety of experiences. We can see, feel, touch, smell, and taste (and perhaps have other abilities to sense and navigate our environment).\n",
    "\n",
    "For a computer program that learns -- i.e., for machine learning -- there are three things to keep in mind about exeperience.\n",
    "\n",
    "- Experience $\\neq$ Rules\n",
    "- Experience = Data\n",
    "- Data = A Table of Numbers\n",
    "\n",
    "It's as easy as that! Let's see what this looks like for various kinds of experience."
   ]
  },
  {
   "cell_type": "markdown",
   "metadata": {
    "slideshow": {
     "slide_type": "slide"
    }
   },
   "source": [
    "## Experiece in the Form of Images\n",
    "\n",
    "\n",
    "![Valentino Rossi](../Images/Nuts-and-Bolts/Rossi.png)\n",
    "\n",
    "This is what we see. But a computer sees...\n",
    "\n",
    "![Valentino Rossi Pixelated](../Images/Nuts-and-Bolts/Rossi-Grid.png)\n",
    "\n",
    "To a computer program that learns from experience, an image is a grid of pixels. In this case, we've arbitrarily created a grid of 5x10 pixels. For color images, each pixel is represented by 3 numbers: the values of the Red, Green, and Blue components of the color (RGB color values). Each of these values is an integer between 0 and 255.\n",
    "\n",
    "So this image is read by the computer program as a row of 50 items, each item containing 3 integers.\n",
    "\n",
    "![Valentino Rossi Pixelated](../Images/Nuts-and-Bolts/Image-Pixel-Row.png)\n"
   ]
  },
  {
   "cell_type": "markdown",
   "metadata": {
    "slideshow": {
     "slide_type": "slide"
    }
   },
   "source": [
    "## Experience in the Form of Text\n",
    "\n",
    "![Some Text](../Images/Nuts-and-Bolts/Text.png)\n",
    "\n",
    "To a computer program that learns from experience, a text document is a row of numbers. Each word in the document is represented by a row of string of numbers. We'll see later what these numbers are.\n",
    "\n",
    "![Text as Row of Numbers](../Images/Nuts-and-Bolts/Text-Encoded.png)\n",
    "\n",
    "\n",
    "\n"
   ]
  },
  {
   "cell_type": "code",
   "execution_count": null,
   "metadata": {
    "collapsed": true
   },
   "outputs": [],
   "source": []
  }
 ],
 "metadata": {
  "celltoolbar": "Slideshow",
  "kernelspec": {
   "display_name": "Python 3",
   "language": "python",
   "name": "python3"
  },
  "language_info": {
   "codemirror_mode": {
    "name": "ipython",
    "version": 3
   },
   "file_extension": ".py",
   "mimetype": "text/x-python",
   "name": "python",
   "nbconvert_exporter": "python",
   "pygments_lexer": "ipython3",
   "version": "3.6.1"
  }
 },
 "nbformat": 4,
 "nbformat_minor": 2
}
